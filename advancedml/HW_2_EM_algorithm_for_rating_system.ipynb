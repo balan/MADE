{
  "nbformat": 4,
  "nbformat_minor": 0,
  "metadata": {
    "kernelspec": {
      "display_name": "Python 3",
      "language": "python",
      "name": "python3"
    },
    "language_info": {
      "codemirror_mode": {
        "name": "ipython",
        "version": 3
      },
      "file_extension": ".py",
      "mimetype": "text/x-python",
      "name": "python",
      "nbconvert_exporter": "python",
      "pygments_lexer": "ipython3",
      "version": "3.7.9"
    },
    "colab": {
      "name": "HW#2_EM_algorithm_for_rating_system.ipynb",
      "provenance": [],
      "collapsed_sections": [],
      "toc_visible": true
    },
    "widgets": {
      "application/vnd.jupyter.widget-state+json": {
        "a4c0ffda033d4e51b9471f277dd67245": {
          "model_module": "@jupyter-widgets/controls",
          "model_name": "HBoxModel",
          "state": {
            "_view_name": "HBoxView",
            "_dom_classes": [],
            "_model_name": "HBoxModel",
            "_view_module": "@jupyter-widgets/controls",
            "_model_module_version": "1.5.0",
            "_view_count": null,
            "_view_module_version": "1.5.0",
            "box_style": "",
            "layout": "IPY_MODEL_0c989cca50b44623afbba5b23a9dd959",
            "_model_module": "@jupyter-widgets/controls",
            "children": [
              "IPY_MODEL_dca0858e30544efa8891578224eda6c8",
              "IPY_MODEL_70ef852ca92547e584e2db62989e30b9"
            ]
          }
        },
        "0c989cca50b44623afbba5b23a9dd959": {
          "model_module": "@jupyter-widgets/base",
          "model_name": "LayoutModel",
          "state": {
            "_view_name": "LayoutView",
            "grid_template_rows": null,
            "right": null,
            "justify_content": null,
            "_view_module": "@jupyter-widgets/base",
            "overflow": null,
            "_model_module_version": "1.2.0",
            "_view_count": null,
            "flex_flow": null,
            "width": null,
            "min_width": null,
            "border": null,
            "align_items": null,
            "bottom": null,
            "_model_module": "@jupyter-widgets/base",
            "top": null,
            "grid_column": null,
            "overflow_y": null,
            "overflow_x": null,
            "grid_auto_flow": null,
            "grid_area": null,
            "grid_template_columns": null,
            "flex": null,
            "_model_name": "LayoutModel",
            "justify_items": null,
            "grid_row": null,
            "max_height": null,
            "align_content": null,
            "visibility": null,
            "align_self": null,
            "height": null,
            "min_height": null,
            "padding": null,
            "grid_auto_rows": null,
            "grid_gap": null,
            "max_width": null,
            "order": null,
            "_view_module_version": "1.2.0",
            "grid_template_areas": null,
            "object_position": null,
            "object_fit": null,
            "grid_auto_columns": null,
            "margin": null,
            "display": null,
            "left": null
          }
        },
        "dca0858e30544efa8891578224eda6c8": {
          "model_module": "@jupyter-widgets/controls",
          "model_name": "FloatProgressModel",
          "state": {
            "_view_name": "ProgressView",
            "style": "IPY_MODEL_18b9d6ece386459b84607e17585b94c1",
            "_dom_classes": [],
            "description": "100%",
            "_model_name": "FloatProgressModel",
            "bar_style": "success",
            "max": 1069,
            "_view_module": "@jupyter-widgets/controls",
            "_model_module_version": "1.5.0",
            "value": 1069,
            "_view_count": null,
            "_view_module_version": "1.5.0",
            "orientation": "horizontal",
            "min": 0,
            "description_tooltip": null,
            "_model_module": "@jupyter-widgets/controls",
            "layout": "IPY_MODEL_ae097f910444442aa94da84f0cbc125b"
          }
        },
        "70ef852ca92547e584e2db62989e30b9": {
          "model_module": "@jupyter-widgets/controls",
          "model_name": "HTMLModel",
          "state": {
            "_view_name": "HTMLView",
            "style": "IPY_MODEL_2f395394b6a04f728f3264e0683fe058",
            "_dom_classes": [],
            "description": "",
            "_model_name": "HTMLModel",
            "placeholder": "​",
            "_view_module": "@jupyter-widgets/controls",
            "_model_module_version": "1.5.0",
            "value": " 1069/1069 [00:01&lt;00:00, 959.56it/s]",
            "_view_count": null,
            "_view_module_version": "1.5.0",
            "description_tooltip": null,
            "_model_module": "@jupyter-widgets/controls",
            "layout": "IPY_MODEL_9c3fb315026b416d8fdc4f65ac9b3246"
          }
        },
        "18b9d6ece386459b84607e17585b94c1": {
          "model_module": "@jupyter-widgets/controls",
          "model_name": "ProgressStyleModel",
          "state": {
            "_view_name": "StyleView",
            "_model_name": "ProgressStyleModel",
            "description_width": "initial",
            "_view_module": "@jupyter-widgets/base",
            "_model_module_version": "1.5.0",
            "_view_count": null,
            "_view_module_version": "1.2.0",
            "bar_color": null,
            "_model_module": "@jupyter-widgets/controls"
          }
        },
        "ae097f910444442aa94da84f0cbc125b": {
          "model_module": "@jupyter-widgets/base",
          "model_name": "LayoutModel",
          "state": {
            "_view_name": "LayoutView",
            "grid_template_rows": null,
            "right": null,
            "justify_content": null,
            "_view_module": "@jupyter-widgets/base",
            "overflow": null,
            "_model_module_version": "1.2.0",
            "_view_count": null,
            "flex_flow": null,
            "width": null,
            "min_width": null,
            "border": null,
            "align_items": null,
            "bottom": null,
            "_model_module": "@jupyter-widgets/base",
            "top": null,
            "grid_column": null,
            "overflow_y": null,
            "overflow_x": null,
            "grid_auto_flow": null,
            "grid_area": null,
            "grid_template_columns": null,
            "flex": null,
            "_model_name": "LayoutModel",
            "justify_items": null,
            "grid_row": null,
            "max_height": null,
            "align_content": null,
            "visibility": null,
            "align_self": null,
            "height": null,
            "min_height": null,
            "padding": null,
            "grid_auto_rows": null,
            "grid_gap": null,
            "max_width": null,
            "order": null,
            "_view_module_version": "1.2.0",
            "grid_template_areas": null,
            "object_position": null,
            "object_fit": null,
            "grid_auto_columns": null,
            "margin": null,
            "display": null,
            "left": null
          }
        },
        "2f395394b6a04f728f3264e0683fe058": {
          "model_module": "@jupyter-widgets/controls",
          "model_name": "DescriptionStyleModel",
          "state": {
            "_view_name": "StyleView",
            "_model_name": "DescriptionStyleModel",
            "description_width": "",
            "_view_module": "@jupyter-widgets/base",
            "_model_module_version": "1.5.0",
            "_view_count": null,
            "_view_module_version": "1.2.0",
            "_model_module": "@jupyter-widgets/controls"
          }
        },
        "9c3fb315026b416d8fdc4f65ac9b3246": {
          "model_module": "@jupyter-widgets/base",
          "model_name": "LayoutModel",
          "state": {
            "_view_name": "LayoutView",
            "grid_template_rows": null,
            "right": null,
            "justify_content": null,
            "_view_module": "@jupyter-widgets/base",
            "overflow": null,
            "_model_module_version": "1.2.0",
            "_view_count": null,
            "flex_flow": null,
            "width": null,
            "min_width": null,
            "border": null,
            "align_items": null,
            "bottom": null,
            "_model_module": "@jupyter-widgets/base",
            "top": null,
            "grid_column": null,
            "overflow_y": null,
            "overflow_x": null,
            "grid_auto_flow": null,
            "grid_area": null,
            "grid_template_columns": null,
            "flex": null,
            "_model_name": "LayoutModel",
            "justify_items": null,
            "grid_row": null,
            "max_height": null,
            "align_content": null,
            "visibility": null,
            "align_self": null,
            "height": null,
            "min_height": null,
            "padding": null,
            "grid_auto_rows": null,
            "grid_gap": null,
            "max_width": null,
            "order": null,
            "_view_module_version": "1.2.0",
            "grid_template_areas": null,
            "object_position": null,
            "object_fit": null,
            "grid_auto_columns": null,
            "margin": null,
            "display": null,
            "left": null
          }
        },
        "e37be7a3acd4415cb22e12c9e3be09fc": {
          "model_module": "@jupyter-widgets/controls",
          "model_name": "HBoxModel",
          "state": {
            "_view_name": "HBoxView",
            "_dom_classes": [],
            "_model_name": "HBoxModel",
            "_view_module": "@jupyter-widgets/controls",
            "_model_module_version": "1.5.0",
            "_view_count": null,
            "_view_module_version": "1.5.0",
            "box_style": "",
            "layout": "IPY_MODEL_a9424d4ba69141e7ae9e8f68f299a63d",
            "_model_module": "@jupyter-widgets/controls",
            "children": [
              "IPY_MODEL_ae3f3d24f79243858b1b9d04f3c15d74",
              "IPY_MODEL_f4c51c6023a34859a7ee4848f94bb010"
            ]
          }
        },
        "a9424d4ba69141e7ae9e8f68f299a63d": {
          "model_module": "@jupyter-widgets/base",
          "model_name": "LayoutModel",
          "state": {
            "_view_name": "LayoutView",
            "grid_template_rows": null,
            "right": null,
            "justify_content": null,
            "_view_module": "@jupyter-widgets/base",
            "overflow": null,
            "_model_module_version": "1.2.0",
            "_view_count": null,
            "flex_flow": null,
            "width": null,
            "min_width": null,
            "border": null,
            "align_items": null,
            "bottom": null,
            "_model_module": "@jupyter-widgets/base",
            "top": null,
            "grid_column": null,
            "overflow_y": null,
            "overflow_x": null,
            "grid_auto_flow": null,
            "grid_area": null,
            "grid_template_columns": null,
            "flex": null,
            "_model_name": "LayoutModel",
            "justify_items": null,
            "grid_row": null,
            "max_height": null,
            "align_content": null,
            "visibility": null,
            "align_self": null,
            "height": null,
            "min_height": null,
            "padding": null,
            "grid_auto_rows": null,
            "grid_gap": null,
            "max_width": null,
            "order": null,
            "_view_module_version": "1.2.0",
            "grid_template_areas": null,
            "object_position": null,
            "object_fit": null,
            "grid_auto_columns": null,
            "margin": null,
            "display": null,
            "left": null
          }
        },
        "ae3f3d24f79243858b1b9d04f3c15d74": {
          "model_module": "@jupyter-widgets/controls",
          "model_name": "FloatProgressModel",
          "state": {
            "_view_name": "ProgressView",
            "style": "IPY_MODEL_e779ce5a58f0431a8b854745890d496e",
            "_dom_classes": [],
            "description": "100%",
            "_model_name": "FloatProgressModel",
            "bar_style": "success",
            "max": 678,
            "_view_module": "@jupyter-widgets/controls",
            "_model_module_version": "1.5.0",
            "value": 678,
            "_view_count": null,
            "_view_module_version": "1.5.0",
            "orientation": "horizontal",
            "min": 0,
            "description_tooltip": null,
            "_model_module": "@jupyter-widgets/controls",
            "layout": "IPY_MODEL_0f5e8c42f6704a8e959878ba789ba485"
          }
        },
        "f4c51c6023a34859a7ee4848f94bb010": {
          "model_module": "@jupyter-widgets/controls",
          "model_name": "HTMLModel",
          "state": {
            "_view_name": "HTMLView",
            "style": "IPY_MODEL_bdbee74696a14999a9118f18417bf2f8",
            "_dom_classes": [],
            "description": "",
            "_model_name": "HTMLModel",
            "placeholder": "​",
            "_view_module": "@jupyter-widgets/controls",
            "_model_module_version": "1.5.0",
            "value": " 678/678 [00:44&lt;00:00, 15.11it/s]",
            "_view_count": null,
            "_view_module_version": "1.5.0",
            "description_tooltip": null,
            "_model_module": "@jupyter-widgets/controls",
            "layout": "IPY_MODEL_1bda717f95ea4224a86b9a4abd78adc6"
          }
        },
        "e779ce5a58f0431a8b854745890d496e": {
          "model_module": "@jupyter-widgets/controls",
          "model_name": "ProgressStyleModel",
          "state": {
            "_view_name": "StyleView",
            "_model_name": "ProgressStyleModel",
            "description_width": "initial",
            "_view_module": "@jupyter-widgets/base",
            "_model_module_version": "1.5.0",
            "_view_count": null,
            "_view_module_version": "1.2.0",
            "bar_color": null,
            "_model_module": "@jupyter-widgets/controls"
          }
        },
        "0f5e8c42f6704a8e959878ba789ba485": {
          "model_module": "@jupyter-widgets/base",
          "model_name": "LayoutModel",
          "state": {
            "_view_name": "LayoutView",
            "grid_template_rows": null,
            "right": null,
            "justify_content": null,
            "_view_module": "@jupyter-widgets/base",
            "overflow": null,
            "_model_module_version": "1.2.0",
            "_view_count": null,
            "flex_flow": null,
            "width": null,
            "min_width": null,
            "border": null,
            "align_items": null,
            "bottom": null,
            "_model_module": "@jupyter-widgets/base",
            "top": null,
            "grid_column": null,
            "overflow_y": null,
            "overflow_x": null,
            "grid_auto_flow": null,
            "grid_area": null,
            "grid_template_columns": null,
            "flex": null,
            "_model_name": "LayoutModel",
            "justify_items": null,
            "grid_row": null,
            "max_height": null,
            "align_content": null,
            "visibility": null,
            "align_self": null,
            "height": null,
            "min_height": null,
            "padding": null,
            "grid_auto_rows": null,
            "grid_gap": null,
            "max_width": null,
            "order": null,
            "_view_module_version": "1.2.0",
            "grid_template_areas": null,
            "object_position": null,
            "object_fit": null,
            "grid_auto_columns": null,
            "margin": null,
            "display": null,
            "left": null
          }
        },
        "bdbee74696a14999a9118f18417bf2f8": {
          "model_module": "@jupyter-widgets/controls",
          "model_name": "DescriptionStyleModel",
          "state": {
            "_view_name": "StyleView",
            "_model_name": "DescriptionStyleModel",
            "description_width": "",
            "_view_module": "@jupyter-widgets/base",
            "_model_module_version": "1.5.0",
            "_view_count": null,
            "_view_module_version": "1.2.0",
            "_model_module": "@jupyter-widgets/controls"
          }
        },
        "1bda717f95ea4224a86b9a4abd78adc6": {
          "model_module": "@jupyter-widgets/base",
          "model_name": "LayoutModel",
          "state": {
            "_view_name": "LayoutView",
            "grid_template_rows": null,
            "right": null,
            "justify_content": null,
            "_view_module": "@jupyter-widgets/base",
            "overflow": null,
            "_model_module_version": "1.2.0",
            "_view_count": null,
            "flex_flow": null,
            "width": null,
            "min_width": null,
            "border": null,
            "align_items": null,
            "bottom": null,
            "_model_module": "@jupyter-widgets/base",
            "top": null,
            "grid_column": null,
            "overflow_y": null,
            "overflow_x": null,
            "grid_auto_flow": null,
            "grid_area": null,
            "grid_template_columns": null,
            "flex": null,
            "_model_name": "LayoutModel",
            "justify_items": null,
            "grid_row": null,
            "max_height": null,
            "align_content": null,
            "visibility": null,
            "align_self": null,
            "height": null,
            "min_height": null,
            "padding": null,
            "grid_auto_rows": null,
            "grid_gap": null,
            "max_width": null,
            "order": null,
            "_view_module_version": "1.2.0",
            "grid_template_areas": null,
            "object_position": null,
            "object_fit": null,
            "grid_auto_columns": null,
            "margin": null,
            "display": null,
            "left": null
          }
        },
        "43787a4fe4de413d9a7575646f0f549c": {
          "model_module": "@jupyter-widgets/controls",
          "model_name": "HBoxModel",
          "state": {
            "_view_name": "HBoxView",
            "_dom_classes": [],
            "_model_name": "HBoxModel",
            "_view_module": "@jupyter-widgets/controls",
            "_model_module_version": "1.5.0",
            "_view_count": null,
            "_view_module_version": "1.5.0",
            "box_style": "",
            "layout": "IPY_MODEL_da9ad794008946e4ba46cc93579acb65",
            "_model_module": "@jupyter-widgets/controls",
            "children": [
              "IPY_MODEL_86ce114d0f0d42c5958c03dcad54df33",
              "IPY_MODEL_67c90d7f00ab4242b402be5434436707"
            ]
          }
        },
        "da9ad794008946e4ba46cc93579acb65": {
          "model_module": "@jupyter-widgets/base",
          "model_name": "LayoutModel",
          "state": {
            "_view_name": "LayoutView",
            "grid_template_rows": null,
            "right": null,
            "justify_content": null,
            "_view_module": "@jupyter-widgets/base",
            "overflow": null,
            "_model_module_version": "1.2.0",
            "_view_count": null,
            "flex_flow": null,
            "width": null,
            "min_width": null,
            "border": null,
            "align_items": null,
            "bottom": null,
            "_model_module": "@jupyter-widgets/base",
            "top": null,
            "grid_column": null,
            "overflow_y": null,
            "overflow_x": null,
            "grid_auto_flow": null,
            "grid_area": null,
            "grid_template_columns": null,
            "flex": null,
            "_model_name": "LayoutModel",
            "justify_items": null,
            "grid_row": null,
            "max_height": null,
            "align_content": null,
            "visibility": null,
            "align_self": null,
            "height": null,
            "min_height": null,
            "padding": null,
            "grid_auto_rows": null,
            "grid_gap": null,
            "max_width": null,
            "order": null,
            "_view_module_version": "1.2.0",
            "grid_template_areas": null,
            "object_position": null,
            "object_fit": null,
            "grid_auto_columns": null,
            "margin": null,
            "display": null,
            "left": null
          }
        },
        "86ce114d0f0d42c5958c03dcad54df33": {
          "model_module": "@jupyter-widgets/controls",
          "model_name": "FloatProgressModel",
          "state": {
            "_view_name": "ProgressView",
            "style": "IPY_MODEL_1279a66b1a6d4d09ac8c07c6c1927fd6",
            "_dom_classes": [],
            "description": "100%",
            "_model_name": "FloatProgressModel",
            "bar_style": "success",
            "max": 391,
            "_view_module": "@jupyter-widgets/controls",
            "_model_module_version": "1.5.0",
            "value": 391,
            "_view_count": null,
            "_view_module_version": "1.5.0",
            "orientation": "horizontal",
            "min": 0,
            "description_tooltip": null,
            "_model_module": "@jupyter-widgets/controls",
            "layout": "IPY_MODEL_5b6cdba29e2147f484a7ddb26076a452"
          }
        },
        "67c90d7f00ab4242b402be5434436707": {
          "model_module": "@jupyter-widgets/controls",
          "model_name": "HTMLModel",
          "state": {
            "_view_name": "HTMLView",
            "style": "IPY_MODEL_d7c535c097b946b8bcdc4d5189bd208d",
            "_dom_classes": [],
            "description": "",
            "_model_name": "HTMLModel",
            "placeholder": "​",
            "_view_module": "@jupyter-widgets/controls",
            "_model_module_version": "1.5.0",
            "value": " 391/391 [00:14&lt;00:00, 26.39it/s]",
            "_view_count": null,
            "_view_module_version": "1.5.0",
            "description_tooltip": null,
            "_model_module": "@jupyter-widgets/controls",
            "layout": "IPY_MODEL_8eceb1ddfbcf41daabf16eeae3a0e342"
          }
        },
        "1279a66b1a6d4d09ac8c07c6c1927fd6": {
          "model_module": "@jupyter-widgets/controls",
          "model_name": "ProgressStyleModel",
          "state": {
            "_view_name": "StyleView",
            "_model_name": "ProgressStyleModel",
            "description_width": "initial",
            "_view_module": "@jupyter-widgets/base",
            "_model_module_version": "1.5.0",
            "_view_count": null,
            "_view_module_version": "1.2.0",
            "bar_color": null,
            "_model_module": "@jupyter-widgets/controls"
          }
        },
        "5b6cdba29e2147f484a7ddb26076a452": {
          "model_module": "@jupyter-widgets/base",
          "model_name": "LayoutModel",
          "state": {
            "_view_name": "LayoutView",
            "grid_template_rows": null,
            "right": null,
            "justify_content": null,
            "_view_module": "@jupyter-widgets/base",
            "overflow": null,
            "_model_module_version": "1.2.0",
            "_view_count": null,
            "flex_flow": null,
            "width": null,
            "min_width": null,
            "border": null,
            "align_items": null,
            "bottom": null,
            "_model_module": "@jupyter-widgets/base",
            "top": null,
            "grid_column": null,
            "overflow_y": null,
            "overflow_x": null,
            "grid_auto_flow": null,
            "grid_area": null,
            "grid_template_columns": null,
            "flex": null,
            "_model_name": "LayoutModel",
            "justify_items": null,
            "grid_row": null,
            "max_height": null,
            "align_content": null,
            "visibility": null,
            "align_self": null,
            "height": null,
            "min_height": null,
            "padding": null,
            "grid_auto_rows": null,
            "grid_gap": null,
            "max_width": null,
            "order": null,
            "_view_module_version": "1.2.0",
            "grid_template_areas": null,
            "object_position": null,
            "object_fit": null,
            "grid_auto_columns": null,
            "margin": null,
            "display": null,
            "left": null
          }
        },
        "d7c535c097b946b8bcdc4d5189bd208d": {
          "model_module": "@jupyter-widgets/controls",
          "model_name": "DescriptionStyleModel",
          "state": {
            "_view_name": "StyleView",
            "_model_name": "DescriptionStyleModel",
            "description_width": "",
            "_view_module": "@jupyter-widgets/base",
            "_model_module_version": "1.5.0",
            "_view_count": null,
            "_view_module_version": "1.2.0",
            "_model_module": "@jupyter-widgets/controls"
          }
        },
        "8eceb1ddfbcf41daabf16eeae3a0e342": {
          "model_module": "@jupyter-widgets/base",
          "model_name": "LayoutModel",
          "state": {
            "_view_name": "LayoutView",
            "grid_template_rows": null,
            "right": null,
            "justify_content": null,
            "_view_module": "@jupyter-widgets/base",
            "overflow": null,
            "_model_module_version": "1.2.0",
            "_view_count": null,
            "flex_flow": null,
            "width": null,
            "min_width": null,
            "border": null,
            "align_items": null,
            "bottom": null,
            "_model_module": "@jupyter-widgets/base",
            "top": null,
            "grid_column": null,
            "overflow_y": null,
            "overflow_x": null,
            "grid_auto_flow": null,
            "grid_area": null,
            "grid_template_columns": null,
            "flex": null,
            "_model_name": "LayoutModel",
            "justify_items": null,
            "grid_row": null,
            "max_height": null,
            "align_content": null,
            "visibility": null,
            "align_self": null,
            "height": null,
            "min_height": null,
            "padding": null,
            "grid_auto_rows": null,
            "grid_gap": null,
            "max_width": null,
            "order": null,
            "_view_module_version": "1.2.0",
            "grid_template_areas": null,
            "object_position": null,
            "object_fit": null,
            "grid_auto_columns": null,
            "margin": null,
            "display": null,
            "left": null
          }
        },
        "1c98fdad21f440208db1aefcec4d7a91": {
          "model_module": "@jupyter-widgets/controls",
          "model_name": "HBoxModel",
          "state": {
            "_view_name": "HBoxView",
            "_dom_classes": [],
            "_model_name": "HBoxModel",
            "_view_module": "@jupyter-widgets/controls",
            "_model_module_version": "1.5.0",
            "_view_count": null,
            "_view_module_version": "1.5.0",
            "box_style": "",
            "layout": "IPY_MODEL_226c94c9c5f5463b883241017a72adaa",
            "_model_module": "@jupyter-widgets/controls",
            "children": [
              "IPY_MODEL_e6e93c6808884b55a203a9ff5f16a1c1",
              "IPY_MODEL_fe4952b09a644e63a70065f0e203a115"
            ]
          }
        },
        "226c94c9c5f5463b883241017a72adaa": {
          "model_module": "@jupyter-widgets/base",
          "model_name": "LayoutModel",
          "state": {
            "_view_name": "LayoutView",
            "grid_template_rows": null,
            "right": null,
            "justify_content": null,
            "_view_module": "@jupyter-widgets/base",
            "overflow": null,
            "_model_module_version": "1.2.0",
            "_view_count": null,
            "flex_flow": null,
            "width": null,
            "min_width": null,
            "border": null,
            "align_items": null,
            "bottom": null,
            "_model_module": "@jupyter-widgets/base",
            "top": null,
            "grid_column": null,
            "overflow_y": null,
            "overflow_x": null,
            "grid_auto_flow": null,
            "grid_area": null,
            "grid_template_columns": null,
            "flex": null,
            "_model_name": "LayoutModel",
            "justify_items": null,
            "grid_row": null,
            "max_height": null,
            "align_content": null,
            "visibility": null,
            "align_self": null,
            "height": null,
            "min_height": null,
            "padding": null,
            "grid_auto_rows": null,
            "grid_gap": null,
            "max_width": null,
            "order": null,
            "_view_module_version": "1.2.0",
            "grid_template_areas": null,
            "object_position": null,
            "object_fit": null,
            "grid_auto_columns": null,
            "margin": null,
            "display": null,
            "left": null
          }
        },
        "e6e93c6808884b55a203a9ff5f16a1c1": {
          "model_module": "@jupyter-widgets/controls",
          "model_name": "FloatProgressModel",
          "state": {
            "_view_name": "ProgressView",
            "style": "IPY_MODEL_547cbaf076d3458c9133ff7ae4524c7c",
            "_dom_classes": [],
            "description": "100%",
            "_model_name": "FloatProgressModel",
            "bar_style": "success",
            "max": 165,
            "_view_module": "@jupyter-widgets/controls",
            "_model_module_version": "1.5.0",
            "value": 165,
            "_view_count": null,
            "_view_module_version": "1.5.0",
            "orientation": "horizontal",
            "min": 0,
            "description_tooltip": null,
            "_model_module": "@jupyter-widgets/controls",
            "layout": "IPY_MODEL_f29d27bb086e4ce1832cb9e0b718e1c5"
          }
        },
        "fe4952b09a644e63a70065f0e203a115": {
          "model_module": "@jupyter-widgets/controls",
          "model_name": "HTMLModel",
          "state": {
            "_view_name": "HTMLView",
            "style": "IPY_MODEL_d59d1726f34947b0b5602bf82d081b14",
            "_dom_classes": [],
            "description": "",
            "_model_name": "HTMLModel",
            "placeholder": "​",
            "_view_module": "@jupyter-widgets/controls",
            "_model_module_version": "1.5.0",
            "value": " 165/165 [01:52&lt;00:00,  1.47it/s]",
            "_view_count": null,
            "_view_module_version": "1.5.0",
            "description_tooltip": null,
            "_model_module": "@jupyter-widgets/controls",
            "layout": "IPY_MODEL_823e5f5b6eab491aa8cb2102ed15a78b"
          }
        },
        "547cbaf076d3458c9133ff7ae4524c7c": {
          "model_module": "@jupyter-widgets/controls",
          "model_name": "ProgressStyleModel",
          "state": {
            "_view_name": "StyleView",
            "_model_name": "ProgressStyleModel",
            "description_width": "initial",
            "_view_module": "@jupyter-widgets/base",
            "_model_module_version": "1.5.0",
            "_view_count": null,
            "_view_module_version": "1.2.0",
            "bar_color": null,
            "_model_module": "@jupyter-widgets/controls"
          }
        },
        "f29d27bb086e4ce1832cb9e0b718e1c5": {
          "model_module": "@jupyter-widgets/base",
          "model_name": "LayoutModel",
          "state": {
            "_view_name": "LayoutView",
            "grid_template_rows": null,
            "right": null,
            "justify_content": null,
            "_view_module": "@jupyter-widgets/base",
            "overflow": null,
            "_model_module_version": "1.2.0",
            "_view_count": null,
            "flex_flow": null,
            "width": null,
            "min_width": null,
            "border": null,
            "align_items": null,
            "bottom": null,
            "_model_module": "@jupyter-widgets/base",
            "top": null,
            "grid_column": null,
            "overflow_y": null,
            "overflow_x": null,
            "grid_auto_flow": null,
            "grid_area": null,
            "grid_template_columns": null,
            "flex": null,
            "_model_name": "LayoutModel",
            "justify_items": null,
            "grid_row": null,
            "max_height": null,
            "align_content": null,
            "visibility": null,
            "align_self": null,
            "height": null,
            "min_height": null,
            "padding": null,
            "grid_auto_rows": null,
            "grid_gap": null,
            "max_width": null,
            "order": null,
            "_view_module_version": "1.2.0",
            "grid_template_areas": null,
            "object_position": null,
            "object_fit": null,
            "grid_auto_columns": null,
            "margin": null,
            "display": null,
            "left": null
          }
        },
        "d59d1726f34947b0b5602bf82d081b14": {
          "model_module": "@jupyter-widgets/controls",
          "model_name": "DescriptionStyleModel",
          "state": {
            "_view_name": "StyleView",
            "_model_name": "DescriptionStyleModel",
            "description_width": "",
            "_view_module": "@jupyter-widgets/base",
            "_model_module_version": "1.5.0",
            "_view_count": null,
            "_view_module_version": "1.2.0",
            "_model_module": "@jupyter-widgets/controls"
          }
        },
        "823e5f5b6eab491aa8cb2102ed15a78b": {
          "model_module": "@jupyter-widgets/base",
          "model_name": "LayoutModel",
          "state": {
            "_view_name": "LayoutView",
            "grid_template_rows": null,
            "right": null,
            "justify_content": null,
            "_view_module": "@jupyter-widgets/base",
            "overflow": null,
            "_model_module_version": "1.2.0",
            "_view_count": null,
            "flex_flow": null,
            "width": null,
            "min_width": null,
            "border": null,
            "align_items": null,
            "bottom": null,
            "_model_module": "@jupyter-widgets/base",
            "top": null,
            "grid_column": null,
            "overflow_y": null,
            "overflow_x": null,
            "grid_auto_flow": null,
            "grid_area": null,
            "grid_template_columns": null,
            "flex": null,
            "_model_name": "LayoutModel",
            "justify_items": null,
            "grid_row": null,
            "max_height": null,
            "align_content": null,
            "visibility": null,
            "align_self": null,
            "height": null,
            "min_height": null,
            "padding": null,
            "grid_auto_rows": null,
            "grid_gap": null,
            "max_width": null,
            "order": null,
            "_view_module_version": "1.2.0",
            "grid_template_areas": null,
            "object_position": null,
            "object_fit": null,
            "grid_auto_columns": null,
            "margin": null,
            "display": null,
            "left": null
          }
        },
        "37672d8425c84d95ad5103c54b26ec27": {
          "model_module": "@jupyter-widgets/controls",
          "model_name": "HBoxModel",
          "state": {
            "_view_name": "HBoxView",
            "_dom_classes": [],
            "_model_name": "HBoxModel",
            "_view_module": "@jupyter-widgets/controls",
            "_model_module_version": "1.5.0",
            "_view_count": null,
            "_view_module_version": "1.5.0",
            "box_style": "",
            "layout": "IPY_MODEL_5290018b2ace4ac2a674beef6100a9e7",
            "_model_module": "@jupyter-widgets/controls",
            "children": [
              "IPY_MODEL_4705af2426f14c5bab61cd3d5bbaee79",
              "IPY_MODEL_d59e6cc53e23426086f0126e876a3b68"
            ]
          }
        },
        "5290018b2ace4ac2a674beef6100a9e7": {
          "model_module": "@jupyter-widgets/base",
          "model_name": "LayoutModel",
          "state": {
            "_view_name": "LayoutView",
            "grid_template_rows": null,
            "right": null,
            "justify_content": null,
            "_view_module": "@jupyter-widgets/base",
            "overflow": null,
            "_model_module_version": "1.2.0",
            "_view_count": null,
            "flex_flow": null,
            "width": null,
            "min_width": null,
            "border": null,
            "align_items": null,
            "bottom": null,
            "_model_module": "@jupyter-widgets/base",
            "top": null,
            "grid_column": null,
            "overflow_y": null,
            "overflow_x": null,
            "grid_auto_flow": null,
            "grid_area": null,
            "grid_template_columns": null,
            "flex": null,
            "_model_name": "LayoutModel",
            "justify_items": null,
            "grid_row": null,
            "max_height": null,
            "align_content": null,
            "visibility": null,
            "align_self": null,
            "height": null,
            "min_height": null,
            "padding": null,
            "grid_auto_rows": null,
            "grid_gap": null,
            "max_width": null,
            "order": null,
            "_view_module_version": "1.2.0",
            "grid_template_areas": null,
            "object_position": null,
            "object_fit": null,
            "grid_auto_columns": null,
            "margin": null,
            "display": null,
            "left": null
          }
        },
        "4705af2426f14c5bab61cd3d5bbaee79": {
          "model_module": "@jupyter-widgets/controls",
          "model_name": "FloatProgressModel",
          "state": {
            "_view_name": "ProgressView",
            "style": "IPY_MODEL_d2ed1f18a4bc49f9b99c8561d0286f2b",
            "_dom_classes": [],
            "description": "100%",
            "_model_name": "FloatProgressModel",
            "bar_style": "success",
            "max": 391,
            "_view_module": "@jupyter-widgets/controls",
            "_model_module_version": "1.5.0",
            "value": 391,
            "_view_count": null,
            "_view_module_version": "1.5.0",
            "orientation": "horizontal",
            "min": 0,
            "description_tooltip": null,
            "_model_module": "@jupyter-widgets/controls",
            "layout": "IPY_MODEL_8f11b7fe617f4c1993b86fbfa067499f"
          }
        },
        "d59e6cc53e23426086f0126e876a3b68": {
          "model_module": "@jupyter-widgets/controls",
          "model_name": "HTMLModel",
          "state": {
            "_view_name": "HTMLView",
            "style": "IPY_MODEL_653fa051546f48aaa5b024703c3bfdce",
            "_dom_classes": [],
            "description": "",
            "_model_name": "HTMLModel",
            "placeholder": "​",
            "_view_module": "@jupyter-widgets/controls",
            "_model_module_version": "1.5.0",
            "value": " 391/391 [00:08&lt;00:00, 44.03it/s]",
            "_view_count": null,
            "_view_module_version": "1.5.0",
            "description_tooltip": null,
            "_model_module": "@jupyter-widgets/controls",
            "layout": "IPY_MODEL_90bc2cbfce92449882bcc03c8ac6f67c"
          }
        },
        "d2ed1f18a4bc49f9b99c8561d0286f2b": {
          "model_module": "@jupyter-widgets/controls",
          "model_name": "ProgressStyleModel",
          "state": {
            "_view_name": "StyleView",
            "_model_name": "ProgressStyleModel",
            "description_width": "initial",
            "_view_module": "@jupyter-widgets/base",
            "_model_module_version": "1.5.0",
            "_view_count": null,
            "_view_module_version": "1.2.0",
            "bar_color": null,
            "_model_module": "@jupyter-widgets/controls"
          }
        },
        "8f11b7fe617f4c1993b86fbfa067499f": {
          "model_module": "@jupyter-widgets/base",
          "model_name": "LayoutModel",
          "state": {
            "_view_name": "LayoutView",
            "grid_template_rows": null,
            "right": null,
            "justify_content": null,
            "_view_module": "@jupyter-widgets/base",
            "overflow": null,
            "_model_module_version": "1.2.0",
            "_view_count": null,
            "flex_flow": null,
            "width": null,
            "min_width": null,
            "border": null,
            "align_items": null,
            "bottom": null,
            "_model_module": "@jupyter-widgets/base",
            "top": null,
            "grid_column": null,
            "overflow_y": null,
            "overflow_x": null,
            "grid_auto_flow": null,
            "grid_area": null,
            "grid_template_columns": null,
            "flex": null,
            "_model_name": "LayoutModel",
            "justify_items": null,
            "grid_row": null,
            "max_height": null,
            "align_content": null,
            "visibility": null,
            "align_self": null,
            "height": null,
            "min_height": null,
            "padding": null,
            "grid_auto_rows": null,
            "grid_gap": null,
            "max_width": null,
            "order": null,
            "_view_module_version": "1.2.0",
            "grid_template_areas": null,
            "object_position": null,
            "object_fit": null,
            "grid_auto_columns": null,
            "margin": null,
            "display": null,
            "left": null
          }
        },
        "653fa051546f48aaa5b024703c3bfdce": {
          "model_module": "@jupyter-widgets/controls",
          "model_name": "DescriptionStyleModel",
          "state": {
            "_view_name": "StyleView",
            "_model_name": "DescriptionStyleModel",
            "description_width": "",
            "_view_module": "@jupyter-widgets/base",
            "_model_module_version": "1.5.0",
            "_view_count": null,
            "_view_module_version": "1.2.0",
            "_model_module": "@jupyter-widgets/controls"
          }
        },
        "90bc2cbfce92449882bcc03c8ac6f67c": {
          "model_module": "@jupyter-widgets/base",
          "model_name": "LayoutModel",
          "state": {
            "_view_name": "LayoutView",
            "grid_template_rows": null,
            "right": null,
            "justify_content": null,
            "_view_module": "@jupyter-widgets/base",
            "overflow": null,
            "_model_module_version": "1.2.0",
            "_view_count": null,
            "flex_flow": null,
            "width": null,
            "min_width": null,
            "border": null,
            "align_items": null,
            "bottom": null,
            "_model_module": "@jupyter-widgets/base",
            "top": null,
            "grid_column": null,
            "overflow_y": null,
            "overflow_x": null,
            "grid_auto_flow": null,
            "grid_area": null,
            "grid_template_columns": null,
            "flex": null,
            "_model_name": "LayoutModel",
            "justify_items": null,
            "grid_row": null,
            "max_height": null,
            "align_content": null,
            "visibility": null,
            "align_self": null,
            "height": null,
            "min_height": null,
            "padding": null,
            "grid_auto_rows": null,
            "grid_gap": null,
            "max_width": null,
            "order": null,
            "_view_module_version": "1.2.0",
            "grid_template_areas": null,
            "object_position": null,
            "object_fit": null,
            "grid_auto_columns": null,
            "margin": null,
            "display": null,
            "left": null
          }
        },
        "8c1dd9a54ce44853a59f3d2acb9fb905": {
          "model_module": "@jupyter-widgets/controls",
          "model_name": "HBoxModel",
          "state": {
            "_view_name": "HBoxView",
            "_dom_classes": [],
            "_model_name": "HBoxModel",
            "_view_module": "@jupyter-widgets/controls",
            "_model_module_version": "1.5.0",
            "_view_count": null,
            "_view_module_version": "1.5.0",
            "box_style": "",
            "layout": "IPY_MODEL_4e3bca1684424d119b51a90aa6160480",
            "_model_module": "@jupyter-widgets/controls",
            "children": [
              "IPY_MODEL_d65c37121b414876bd6d619b57696b62",
              "IPY_MODEL_0d4c4fe21d7446f2ac504cccb5627dc8"
            ]
          }
        },
        "4e3bca1684424d119b51a90aa6160480": {
          "model_module": "@jupyter-widgets/base",
          "model_name": "LayoutModel",
          "state": {
            "_view_name": "LayoutView",
            "grid_template_rows": null,
            "right": null,
            "justify_content": null,
            "_view_module": "@jupyter-widgets/base",
            "overflow": null,
            "_model_module_version": "1.2.0",
            "_view_count": null,
            "flex_flow": null,
            "width": null,
            "min_width": null,
            "border": null,
            "align_items": null,
            "bottom": null,
            "_model_module": "@jupyter-widgets/base",
            "top": null,
            "grid_column": null,
            "overflow_y": null,
            "overflow_x": null,
            "grid_auto_flow": null,
            "grid_area": null,
            "grid_template_columns": null,
            "flex": null,
            "_model_name": "LayoutModel",
            "justify_items": null,
            "grid_row": null,
            "max_height": null,
            "align_content": null,
            "visibility": null,
            "align_self": null,
            "height": null,
            "min_height": null,
            "padding": null,
            "grid_auto_rows": null,
            "grid_gap": null,
            "max_width": null,
            "order": null,
            "_view_module_version": "1.2.0",
            "grid_template_areas": null,
            "object_position": null,
            "object_fit": null,
            "grid_auto_columns": null,
            "margin": null,
            "display": null,
            "left": null
          }
        },
        "d65c37121b414876bd6d619b57696b62": {
          "model_module": "@jupyter-widgets/controls",
          "model_name": "FloatProgressModel",
          "state": {
            "_view_name": "ProgressView",
            "style": "IPY_MODEL_b7cc3d67b2ad4ef3b4da22a2210d2f2a",
            "_dom_classes": [],
            "description": "100%",
            "_model_name": "FloatProgressModel",
            "bar_style": "success",
            "max": 10,
            "_view_module": "@jupyter-widgets/controls",
            "_model_module_version": "1.5.0",
            "value": 10,
            "_view_count": null,
            "_view_module_version": "1.5.0",
            "orientation": "horizontal",
            "min": 0,
            "description_tooltip": null,
            "_model_module": "@jupyter-widgets/controls",
            "layout": "IPY_MODEL_3aea00efcc29473bb6bf1a8ce992deda"
          }
        },
        "0d4c4fe21d7446f2ac504cccb5627dc8": {
          "model_module": "@jupyter-widgets/controls",
          "model_name": "HTMLModel",
          "state": {
            "_view_name": "HTMLView",
            "style": "IPY_MODEL_b7e05944d200485c99db1d58d77d06dd",
            "_dom_classes": [],
            "description": "",
            "_model_name": "HTMLModel",
            "placeholder": "​",
            "_view_module": "@jupyter-widgets/controls",
            "_model_module_version": "1.5.0",
            "value": " 10/10 [22:48&lt;00:00, 136.84s/it]",
            "_view_count": null,
            "_view_module_version": "1.5.0",
            "description_tooltip": null,
            "_model_module": "@jupyter-widgets/controls",
            "layout": "IPY_MODEL_c8cec86604324401a57384e02ebe5f39"
          }
        },
        "b7cc3d67b2ad4ef3b4da22a2210d2f2a": {
          "model_module": "@jupyter-widgets/controls",
          "model_name": "ProgressStyleModel",
          "state": {
            "_view_name": "StyleView",
            "_model_name": "ProgressStyleModel",
            "description_width": "initial",
            "_view_module": "@jupyter-widgets/base",
            "_model_module_version": "1.5.0",
            "_view_count": null,
            "_view_module_version": "1.2.0",
            "bar_color": null,
            "_model_module": "@jupyter-widgets/controls"
          }
        },
        "3aea00efcc29473bb6bf1a8ce992deda": {
          "model_module": "@jupyter-widgets/base",
          "model_name": "LayoutModel",
          "state": {
            "_view_name": "LayoutView",
            "grid_template_rows": null,
            "right": null,
            "justify_content": null,
            "_view_module": "@jupyter-widgets/base",
            "overflow": null,
            "_model_module_version": "1.2.0",
            "_view_count": null,
            "flex_flow": null,
            "width": null,
            "min_width": null,
            "border": null,
            "align_items": null,
            "bottom": null,
            "_model_module": "@jupyter-widgets/base",
            "top": null,
            "grid_column": null,
            "overflow_y": null,
            "overflow_x": null,
            "grid_auto_flow": null,
            "grid_area": null,
            "grid_template_columns": null,
            "flex": null,
            "_model_name": "LayoutModel",
            "justify_items": null,
            "grid_row": null,
            "max_height": null,
            "align_content": null,
            "visibility": null,
            "align_self": null,
            "height": null,
            "min_height": null,
            "padding": null,
            "grid_auto_rows": null,
            "grid_gap": null,
            "max_width": null,
            "order": null,
            "_view_module_version": "1.2.0",
            "grid_template_areas": null,
            "object_position": null,
            "object_fit": null,
            "grid_auto_columns": null,
            "margin": null,
            "display": null,
            "left": null
          }
        },
        "b7e05944d200485c99db1d58d77d06dd": {
          "model_module": "@jupyter-widgets/controls",
          "model_name": "DescriptionStyleModel",
          "state": {
            "_view_name": "StyleView",
            "_model_name": "DescriptionStyleModel",
            "description_width": "",
            "_view_module": "@jupyter-widgets/base",
            "_model_module_version": "1.5.0",
            "_view_count": null,
            "_view_module_version": "1.2.0",
            "_model_module": "@jupyter-widgets/controls"
          }
        },
        "c8cec86604324401a57384e02ebe5f39": {
          "model_module": "@jupyter-widgets/base",
          "model_name": "LayoutModel",
          "state": {
            "_view_name": "LayoutView",
            "grid_template_rows": null,
            "right": null,
            "justify_content": null,
            "_view_module": "@jupyter-widgets/base",
            "overflow": null,
            "_model_module_version": "1.2.0",
            "_view_count": null,
            "flex_flow": null,
            "width": null,
            "min_width": null,
            "border": null,
            "align_items": null,
            "bottom": null,
            "_model_module": "@jupyter-widgets/base",
            "top": null,
            "grid_column": null,
            "overflow_y": null,
            "overflow_x": null,
            "grid_auto_flow": null,
            "grid_area": null,
            "grid_template_columns": null,
            "flex": null,
            "_model_name": "LayoutModel",
            "justify_items": null,
            "grid_row": null,
            "max_height": null,
            "align_content": null,
            "visibility": null,
            "align_self": null,
            "height": null,
            "min_height": null,
            "padding": null,
            "grid_auto_rows": null,
            "grid_gap": null,
            "max_width": null,
            "order": null,
            "_view_module_version": "1.2.0",
            "grid_template_areas": null,
            "object_position": null,
            "object_fit": null,
            "grid_auto_columns": null,
            "margin": null,
            "display": null,
            "left": null
          }
        },
        "61c040dec6c54684bfaf4aec03716553": {
          "model_module": "@jupyter-widgets/controls",
          "model_name": "HBoxModel",
          "state": {
            "_view_name": "HBoxView",
            "_dom_classes": [],
            "_model_name": "HBoxModel",
            "_view_module": "@jupyter-widgets/controls",
            "_model_module_version": "1.5.0",
            "_view_count": null,
            "_view_module_version": "1.5.0",
            "box_style": "",
            "layout": "IPY_MODEL_76ea4cb19c4f4256b28708ec9b9f3c67",
            "_model_module": "@jupyter-widgets/controls",
            "children": [
              "IPY_MODEL_33baf7418323469b99618ab3ebd3e71e",
              "IPY_MODEL_a6011113e1ed4cc697a9185ef11a8fe4"
            ]
          }
        },
        "76ea4cb19c4f4256b28708ec9b9f3c67": {
          "model_module": "@jupyter-widgets/base",
          "model_name": "LayoutModel",
          "state": {
            "_view_name": "LayoutView",
            "grid_template_rows": null,
            "right": null,
            "justify_content": null,
            "_view_module": "@jupyter-widgets/base",
            "overflow": null,
            "_model_module_version": "1.2.0",
            "_view_count": null,
            "flex_flow": null,
            "width": null,
            "min_width": null,
            "border": null,
            "align_items": null,
            "bottom": null,
            "_model_module": "@jupyter-widgets/base",
            "top": null,
            "grid_column": null,
            "overflow_y": null,
            "overflow_x": null,
            "grid_auto_flow": null,
            "grid_area": null,
            "grid_template_columns": null,
            "flex": null,
            "_model_name": "LayoutModel",
            "justify_items": null,
            "grid_row": null,
            "max_height": null,
            "align_content": null,
            "visibility": null,
            "align_self": null,
            "height": null,
            "min_height": null,
            "padding": null,
            "grid_auto_rows": null,
            "grid_gap": null,
            "max_width": null,
            "order": null,
            "_view_module_version": "1.2.0",
            "grid_template_areas": null,
            "object_position": null,
            "object_fit": null,
            "grid_auto_columns": null,
            "margin": null,
            "display": null,
            "left": null
          }
        },
        "33baf7418323469b99618ab3ebd3e71e": {
          "model_module": "@jupyter-widgets/controls",
          "model_name": "FloatProgressModel",
          "state": {
            "_view_name": "ProgressView",
            "style": "IPY_MODEL_0414f616c14d4cb2a20a26e97f80cf7b",
            "_dom_classes": [],
            "description": "100%",
            "_model_name": "FloatProgressModel",
            "bar_style": "success",
            "max": 165,
            "_view_module": "@jupyter-widgets/controls",
            "_model_module_version": "1.5.0",
            "value": 165,
            "_view_count": null,
            "_view_module_version": "1.5.0",
            "orientation": "horizontal",
            "min": 0,
            "description_tooltip": null,
            "_model_module": "@jupyter-widgets/controls",
            "layout": "IPY_MODEL_16bf7fc9c1a94001b1771955408043a8"
          }
        },
        "a6011113e1ed4cc697a9185ef11a8fe4": {
          "model_module": "@jupyter-widgets/controls",
          "model_name": "HTMLModel",
          "state": {
            "_view_name": "HTMLView",
            "style": "IPY_MODEL_fe16f7acfc224ed0aca16453ff930abc",
            "_dom_classes": [],
            "description": "",
            "_model_name": "HTMLModel",
            "placeholder": "​",
            "_view_module": "@jupyter-widgets/controls",
            "_model_module_version": "1.5.0",
            "value": " 165/165 [07:22&lt;00:00,  2.68s/it]",
            "_view_count": null,
            "_view_module_version": "1.5.0",
            "description_tooltip": null,
            "_model_module": "@jupyter-widgets/controls",
            "layout": "IPY_MODEL_4ea873c672f1400f9780f16dd08faa91"
          }
        },
        "0414f616c14d4cb2a20a26e97f80cf7b": {
          "model_module": "@jupyter-widgets/controls",
          "model_name": "ProgressStyleModel",
          "state": {
            "_view_name": "StyleView",
            "_model_name": "ProgressStyleModel",
            "description_width": "initial",
            "_view_module": "@jupyter-widgets/base",
            "_model_module_version": "1.5.0",
            "_view_count": null,
            "_view_module_version": "1.2.0",
            "bar_color": null,
            "_model_module": "@jupyter-widgets/controls"
          }
        },
        "16bf7fc9c1a94001b1771955408043a8": {
          "model_module": "@jupyter-widgets/base",
          "model_name": "LayoutModel",
          "state": {
            "_view_name": "LayoutView",
            "grid_template_rows": null,
            "right": null,
            "justify_content": null,
            "_view_module": "@jupyter-widgets/base",
            "overflow": null,
            "_model_module_version": "1.2.0",
            "_view_count": null,
            "flex_flow": null,
            "width": null,
            "min_width": null,
            "border": null,
            "align_items": null,
            "bottom": null,
            "_model_module": "@jupyter-widgets/base",
            "top": null,
            "grid_column": null,
            "overflow_y": null,
            "overflow_x": null,
            "grid_auto_flow": null,
            "grid_area": null,
            "grid_template_columns": null,
            "flex": null,
            "_model_name": "LayoutModel",
            "justify_items": null,
            "grid_row": null,
            "max_height": null,
            "align_content": null,
            "visibility": null,
            "align_self": null,
            "height": null,
            "min_height": null,
            "padding": null,
            "grid_auto_rows": null,
            "grid_gap": null,
            "max_width": null,
            "order": null,
            "_view_module_version": "1.2.0",
            "grid_template_areas": null,
            "object_position": null,
            "object_fit": null,
            "grid_auto_columns": null,
            "margin": null,
            "display": null,
            "left": null
          }
        },
        "fe16f7acfc224ed0aca16453ff930abc": {
          "model_module": "@jupyter-widgets/controls",
          "model_name": "DescriptionStyleModel",
          "state": {
            "_view_name": "StyleView",
            "_model_name": "DescriptionStyleModel",
            "description_width": "",
            "_view_module": "@jupyter-widgets/base",
            "_model_module_version": "1.5.0",
            "_view_count": null,
            "_view_module_version": "1.2.0",
            "_model_module": "@jupyter-widgets/controls"
          }
        },
        "4ea873c672f1400f9780f16dd08faa91": {
          "model_module": "@jupyter-widgets/base",
          "model_name": "LayoutModel",
          "state": {
            "_view_name": "LayoutView",
            "grid_template_rows": null,
            "right": null,
            "justify_content": null,
            "_view_module": "@jupyter-widgets/base",
            "overflow": null,
            "_model_module_version": "1.2.0",
            "_view_count": null,
            "flex_flow": null,
            "width": null,
            "min_width": null,
            "border": null,
            "align_items": null,
            "bottom": null,
            "_model_module": "@jupyter-widgets/base",
            "top": null,
            "grid_column": null,
            "overflow_y": null,
            "overflow_x": null,
            "grid_auto_flow": null,
            "grid_area": null,
            "grid_template_columns": null,
            "flex": null,
            "_model_name": "LayoutModel",
            "justify_items": null,
            "grid_row": null,
            "max_height": null,
            "align_content": null,
            "visibility": null,
            "align_self": null,
            "height": null,
            "min_height": null,
            "padding": null,
            "grid_auto_rows": null,
            "grid_gap": null,
            "max_width": null,
            "order": null,
            "_view_module_version": "1.2.0",
            "grid_template_areas": null,
            "object_position": null,
            "object_fit": null,
            "grid_auto_columns": null,
            "margin": null,
            "display": null,
            "left": null
          }
        }
      }
    }
  },
  "cells": [
    {
      "cell_type": "markdown",
      "metadata": {
        "id": "zmImTef8LpIV"
      },
      "source": [
        "# <center>Advanced Machine Learning. Homework #2</center>\n",
        "Task text:\n",
        "<br>\n",
        "(ru) https://docs.google.com/document/d/1MapaSpMax0cEnnY2-QJ2XMgzVHpj_UrucJK-1r5FgA8/\n",
        "<br>"
      ]
    },
    {
      "cell_type": "code",
      "metadata": {
        "id": "fvvHl_hKLpIj"
      },
      "source": [
        "import warnings\n",
        "warnings.filterwarnings('ignore')\n",
        "\n",
        "import gc\n",
        "import numpy as np\n",
        "import pandas as pd\n",
        "from tqdm import tqdm_notebook as tqdm\n",
        "import matplotlib.pyplot as plt\n",
        "import seaborn as sns\n",
        "sns.set_style(\"darkgrid\")\n",
        "\n",
        "from sklearn.linear_model import LogisticRegression\n",
        "from sklearn.preprocessing import MinMaxScaler\n",
        "from scipy import stats"
      ],
      "execution_count": null,
      "outputs": []
    },
    {
      "cell_type": "code",
      "metadata": {
        "colab": {
          "base_uri": "https://localhost:8080/"
        },
        "id": "brFrBR2FPv7Y",
        "outputId": "ad927c98-b072-4cde-8668-5b7d0e1a26ef"
      },
      "source": [
        "from google.colab import drive\n",
        "drive.mount('/content/drive/')"
      ],
      "execution_count": null,
      "outputs": [
        {
          "output_type": "stream",
          "text": [
            "Mounted at /content/drive/\n"
          ],
          "name": "stdout"
        }
      ]
    },
    {
      "cell_type": "code",
      "metadata": {
        "id": "LIKk6k5MLpIl",
        "colab": {
          "base_uri": "https://localhost:8080/"
        },
        "outputId": "02c8763a-1bd1-4278-883a-c3cde7252f51"
      },
      "source": [
        "%%time\n",
        "import os\n",
        "path = os.getcwd() + '/drive/MyDrive/Colab Notebooks/'\n",
        "\n",
        "data_results = pd.read_pickle(path + 'results.pkl')\n",
        "data_players = pd.read_pickle(path + 'players.pkl')\n",
        "data_tournaments = pd.read_pickle(path + 'tournaments.pkl')"
      ],
      "execution_count": null,
      "outputs": [
        {
          "output_type": "stream",
          "text": [
            "CPU times: user 15 s, sys: 3.84 s, total: 18.8 s\n",
            "Wall time: 21.8 s\n"
          ],
          "name": "stdout"
        }
      ]
    },
    {
      "cell_type": "markdown",
      "metadata": {
        "id": "sAVXpkWiQ5VJ"
      },
      "source": [
        "Start with parsing data and splitting into train (2019) and test (2020) sets."
      ]
    },
    {
      "cell_type": "code",
      "metadata": {
        "colab": {
          "base_uri": "https://localhost:8080/"
        },
        "id": "WR8HhQYYLpIv",
        "outputId": "0a6695ab-718a-4d67-f882-22c2d063e2dd"
      },
      "source": [
        "def parse_team_names(game_indices):\n",
        "    team_id_name_mapping = {}\n",
        "    for game_ix in tqdm(game_indices):\n",
        "        for info in data_results[game_ix]:\n",
        "            team_id = info['team']['id']\n",
        "            team_name = info['team']['name']\n",
        "            team_id_name_mapping[team_id] = team_name\n",
        "    return team_id_name_mapping\n",
        "\n",
        "tournaments_2019 = [k for k,v in data_tournaments.items() if v['dateStart'][:4] == '2019']\n",
        "tournaments_2020 = [k for k,v in data_tournaments.items() if v['dateStart'][:4] == '2020']\n",
        "\n",
        "games_2019 = []\n",
        "games_2020 = []\n",
        "for ix, info in data_results.items():\n",
        "    try:\n",
        "         if None not in [info_team['mask'] for info_team in info]:\n",
        "            if ix in tournaments_2019:\n",
        "                games_2019.append(ix)\n",
        "            if ix in tournaments_2020:\n",
        "                games_2020.append(ix)\n",
        "    except KeyError:\n",
        "        continue\n",
        "\n",
        "data_tournaments_2019 = {ix: data_tournaments[ix]['name'] for ix in games_2019}\n",
        "data_tournaments_2020 = {ix: data_tournaments[ix]['name'] for ix in games_2020}\n",
        "\n",
        "len(games_2019), len(games_2020)"
      ],
      "execution_count": null,
      "outputs": [
        {
          "output_type": "execute_result",
          "data": {
            "text/plain": [
              "(678, 391)"
            ]
          },
          "metadata": {
            "tags": []
          },
          "execution_count": 12
        }
      ]
    },
    {
      "cell_type": "code",
      "metadata": {
        "id": "b2TKouUSNZRz",
        "colab": {
          "base_uri": "https://localhost:8080/",
          "height": 66,
          "referenced_widgets": [
            "a4c0ffda033d4e51b9471f277dd67245",
            "0c989cca50b44623afbba5b23a9dd959",
            "dca0858e30544efa8891578224eda6c8",
            "70ef852ca92547e584e2db62989e30b9",
            "18b9d6ece386459b84607e17585b94c1",
            "ae097f910444442aa94da84f0cbc125b",
            "2f395394b6a04f728f3264e0683fe058",
            "9c3fb315026b416d8fdc4f65ac9b3246"
          ]
        },
        "outputId": "f203232d-8a61-4321-b3e9-528238b4ae12"
      },
      "source": [
        "player_id_name_mapping = {ix: f\"{info['name']} {info['patronymic'] or ''} {info['surname']}\" for ix, info in data_players.items()}\n",
        "team_id_name_mapping = parse_team_names(games_2019 + games_2020)"
      ],
      "execution_count": null,
      "outputs": [
        {
          "output_type": "display_data",
          "data": {
            "application/vnd.jupyter.widget-view+json": {
              "model_id": "a4c0ffda033d4e51b9471f277dd67245",
              "version_minor": 0,
              "version_major": 2
            },
            "text/plain": [
              "HBox(children=(FloatProgress(value=0.0, max=1069.0), HTML(value='')))"
            ]
          },
          "metadata": {
            "tags": []
          }
        },
        {
          "output_type": "stream",
          "text": [
            "\n"
          ],
          "name": "stdout"
        }
      ]
    },
    {
      "cell_type": "markdown",
      "metadata": {
        "id": "83j7wDby2Uph"
      },
      "source": [
        "Parsing data to DataFrame format."
      ]
    },
    {
      "cell_type": "code",
      "metadata": {
        "id": "Snw7d8JILpI3"
      },
      "source": [
        "def prepare_data(game_indices):\n",
        "    data = []\n",
        "    for game_ix in tqdm(game_indices):\n",
        "        data_per_team = []\n",
        "        n_teams = len(data_results[game_ix])\n",
        "        if n_teams == 0:\n",
        "            continue\n",
        "        for info in data_results[game_ix]:\n",
        "            team_id = info['team']['id']\n",
        "            team_name = info['team']['name']\n",
        "            answers_string = info['mask'].replace('X', '0').replace('?', '0')\n",
        "            n_correct = info['questionsTotal']\n",
        "            n_questions = len(answers_string)\n",
        "            position = info['position']\n",
        "            n_team_players = len(info['teamMembers'])\n",
        "            for player in info['teamMembers']:\n",
        "                player_id = player['player']['id']\n",
        "                row = {'tournament_id': game_ix, 'n_teams': n_teams, 'team_id': team_id, 'n_questions': n_questions, 'n_correct': n_correct, \n",
        "                       'answers_string': answers_string, 'position': position, 'n_team_players': n_team_players, 'player_id': player_id}\n",
        "                data_per_team.append(row)\n",
        "        data_per_team = pd.DataFrame(data_per_team)\n",
        "        n_questions = data_per_team['n_questions'].values\n",
        "        if not np.all(n_questions == n_questions[0]):\n",
        "            continue\n",
        "        team_answers_df =  data_per_team[['team_id', 'answers_string']].drop_duplicates()\n",
        "        team_answers_array = np.array([np.array([int(q_ans) for q_ans in ans]) for ans in team_answers_df['answers_string'].values])\n",
        "        n_correct_answers_per_question = team_answers_array.sum(axis=0)\n",
        "        team_single_answer = []\n",
        "        for team_id, team_answers in zip(team_answers_df['team_id'].values, team_answers_array):\n",
        "            for single_answer, n_correct, question_id in zip(team_answers, n_correct_answers_per_question, range(len(team_answers))):\n",
        "                row = {'team_id': team_id, 'question_id': question_id, 'question_answer_rate': n_correct / n_teams, 'answer': single_answer}\n",
        "                team_single_answer.append(row)\n",
        "        team_single_answer = pd.DataFrame(team_single_answer)\n",
        "        data_per_team_answer = pd.merge(data_per_team.drop(columns=['answers_string']), team_single_answer, on='team_id')\n",
        "        del data_per_team, team_single_answer\n",
        "        data.append(data_per_team_answer)\n",
        "    data = pd.concat(data)\n",
        "    gc.collect()\n",
        "    return data"
      ],
      "execution_count": null,
      "outputs": []
    },
    {
      "cell_type": "code",
      "metadata": {
        "colab": {
          "base_uri": "https://localhost:8080/",
          "height": 100,
          "referenced_widgets": [
            "e37be7a3acd4415cb22e12c9e3be09fc",
            "a9424d4ba69141e7ae9e8f68f299a63d",
            "ae3f3d24f79243858b1b9d04f3c15d74",
            "f4c51c6023a34859a7ee4848f94bb010",
            "e779ce5a58f0431a8b854745890d496e",
            "0f5e8c42f6704a8e959878ba789ba485",
            "bdbee74696a14999a9118f18417bf2f8",
            "1bda717f95ea4224a86b9a4abd78adc6"
          ]
        },
        "id": "8AdY8m8uLpI4",
        "outputId": "0cdc8194-db0b-4fe9-ac4b-f4d6bb6a6c75"
      },
      "source": [
        "%%time\n",
        "data_2019 = prepare_data(games_2019)"
      ],
      "execution_count": null,
      "outputs": [
        {
          "output_type": "display_data",
          "data": {
            "application/vnd.jupyter.widget-view+json": {
              "model_id": "e37be7a3acd4415cb22e12c9e3be09fc",
              "version_minor": 0,
              "version_major": 2
            },
            "text/plain": [
              "HBox(children=(FloatProgress(value=0.0, max=678.0), HTML(value='')))"
            ]
          },
          "metadata": {
            "tags": []
          }
        },
        {
          "output_type": "stream",
          "text": [
            "\n",
            "CPU times: user 27.5 s, sys: 4.71 s, total: 32.2 s\n",
            "Wall time: 44.9 s\n"
          ],
          "name": "stdout"
        }
      ]
    },
    {
      "cell_type": "code",
      "metadata": {
        "colab": {
          "base_uri": "https://localhost:8080/",
          "height": 100,
          "referenced_widgets": [
            "43787a4fe4de413d9a7575646f0f549c",
            "da9ad794008946e4ba46cc93579acb65",
            "86ce114d0f0d42c5958c03dcad54df33",
            "67c90d7f00ab4242b402be5434436707",
            "1279a66b1a6d4d09ac8c07c6c1927fd6",
            "5b6cdba29e2147f484a7ddb26076a452",
            "d7c535c097b946b8bcdc4d5189bd208d",
            "8eceb1ddfbcf41daabf16eeae3a0e342"
          ]
        },
        "id": "IqPb9eODO4R2",
        "outputId": "410cb8f2-8e9f-4d78-ddc7-d284a6cda2db"
      },
      "source": [
        "%%time\n",
        "data_2020 = prepare_data(games_2020)"
      ],
      "execution_count": null,
      "outputs": [
        {
          "output_type": "display_data",
          "data": {
            "application/vnd.jupyter.widget-view+json": {
              "model_id": "43787a4fe4de413d9a7575646f0f549c",
              "version_minor": 0,
              "version_major": 2
            },
            "text/plain": [
              "HBox(children=(FloatProgress(value=0.0, max=391.0), HTML(value='')))"
            ]
          },
          "metadata": {
            "tags": []
          }
        },
        {
          "output_type": "stream",
          "text": [
            "\n",
            "CPU times: user 14.6 s, sys: 269 ms, total: 14.9 s\n",
            "Wall time: 14.9 s\n"
          ],
          "name": "stdout"
        }
      ]
    },
    {
      "cell_type": "code",
      "metadata": {
        "colab": {
          "base_uri": "https://localhost:8080/",
          "height": 419
        },
        "id": "DrPLM8vELpI5",
        "outputId": "faedfd23-88ac-4a37-82e5-873acf8183b0"
      },
      "source": [
        "data_2019"
      ],
      "execution_count": null,
      "outputs": [
        {
          "output_type": "execute_result",
          "data": {
            "text/html": [
              "<div>\n",
              "<style scoped>\n",
              "    .dataframe tbody tr th:only-of-type {\n",
              "        vertical-align: middle;\n",
              "    }\n",
              "\n",
              "    .dataframe tbody tr th {\n",
              "        vertical-align: top;\n",
              "    }\n",
              "\n",
              "    .dataframe thead th {\n",
              "        text-align: right;\n",
              "    }\n",
              "</style>\n",
              "<table border=\"1\" class=\"dataframe\">\n",
              "  <thead>\n",
              "    <tr style=\"text-align: right;\">\n",
              "      <th></th>\n",
              "      <th>tournament_id</th>\n",
              "      <th>n_teams</th>\n",
              "      <th>team_id</th>\n",
              "      <th>n_questions</th>\n",
              "      <th>n_correct</th>\n",
              "      <th>position</th>\n",
              "      <th>n_team_players</th>\n",
              "      <th>player_id</th>\n",
              "      <th>question_id</th>\n",
              "      <th>question_answer_rate</th>\n",
              "      <th>answer</th>\n",
              "    </tr>\n",
              "  </thead>\n",
              "  <tbody>\n",
              "    <tr>\n",
              "      <th>0</th>\n",
              "      <td>4772</td>\n",
              "      <td>231</td>\n",
              "      <td>45556</td>\n",
              "      <td>36</td>\n",
              "      <td>28</td>\n",
              "      <td>1.0</td>\n",
              "      <td>6</td>\n",
              "      <td>6212</td>\n",
              "      <td>0</td>\n",
              "      <td>0.883117</td>\n",
              "      <td>1</td>\n",
              "    </tr>\n",
              "    <tr>\n",
              "      <th>1</th>\n",
              "      <td>4772</td>\n",
              "      <td>231</td>\n",
              "      <td>45556</td>\n",
              "      <td>36</td>\n",
              "      <td>28</td>\n",
              "      <td>1.0</td>\n",
              "      <td>6</td>\n",
              "      <td>6212</td>\n",
              "      <td>1</td>\n",
              "      <td>0.779221</td>\n",
              "      <td>1</td>\n",
              "    </tr>\n",
              "    <tr>\n",
              "      <th>2</th>\n",
              "      <td>4772</td>\n",
              "      <td>231</td>\n",
              "      <td>45556</td>\n",
              "      <td>36</td>\n",
              "      <td>28</td>\n",
              "      <td>1.0</td>\n",
              "      <td>6</td>\n",
              "      <td>6212</td>\n",
              "      <td>2</td>\n",
              "      <td>0.445887</td>\n",
              "      <td>1</td>\n",
              "    </tr>\n",
              "    <tr>\n",
              "      <th>3</th>\n",
              "      <td>4772</td>\n",
              "      <td>231</td>\n",
              "      <td>45556</td>\n",
              "      <td>36</td>\n",
              "      <td>28</td>\n",
              "      <td>1.0</td>\n",
              "      <td>6</td>\n",
              "      <td>6212</td>\n",
              "      <td>3</td>\n",
              "      <td>0.519481</td>\n",
              "      <td>1</td>\n",
              "    </tr>\n",
              "    <tr>\n",
              "      <th>4</th>\n",
              "      <td>4772</td>\n",
              "      <td>231</td>\n",
              "      <td>45556</td>\n",
              "      <td>36</td>\n",
              "      <td>28</td>\n",
              "      <td>1.0</td>\n",
              "      <td>6</td>\n",
              "      <td>6212</td>\n",
              "      <td>4</td>\n",
              "      <td>0.878788</td>\n",
              "      <td>1</td>\n",
              "    </tr>\n",
              "    <tr>\n",
              "      <th>...</th>\n",
              "      <td>...</td>\n",
              "      <td>...</td>\n",
              "      <td>...</td>\n",
              "      <td>...</td>\n",
              "      <td>...</td>\n",
              "      <td>...</td>\n",
              "      <td>...</td>\n",
              "      <td>...</td>\n",
              "      <td>...</td>\n",
              "      <td>...</td>\n",
              "      <td>...</td>\n",
              "    </tr>\n",
              "    <tr>\n",
              "      <th>4423</th>\n",
              "      <td>6191</td>\n",
              "      <td>22</td>\n",
              "      <td>76301</td>\n",
              "      <td>36</td>\n",
              "      <td>4</td>\n",
              "      <td>21.5</td>\n",
              "      <td>6</td>\n",
              "      <td>217859</td>\n",
              "      <td>31</td>\n",
              "      <td>0.000000</td>\n",
              "      <td>0</td>\n",
              "    </tr>\n",
              "    <tr>\n",
              "      <th>4424</th>\n",
              "      <td>6191</td>\n",
              "      <td>22</td>\n",
              "      <td>76301</td>\n",
              "      <td>36</td>\n",
              "      <td>4</td>\n",
              "      <td>21.5</td>\n",
              "      <td>6</td>\n",
              "      <td>217859</td>\n",
              "      <td>32</td>\n",
              "      <td>0.136364</td>\n",
              "      <td>0</td>\n",
              "    </tr>\n",
              "    <tr>\n",
              "      <th>4425</th>\n",
              "      <td>6191</td>\n",
              "      <td>22</td>\n",
              "      <td>76301</td>\n",
              "      <td>36</td>\n",
              "      <td>4</td>\n",
              "      <td>21.5</td>\n",
              "      <td>6</td>\n",
              "      <td>217859</td>\n",
              "      <td>33</td>\n",
              "      <td>0.818182</td>\n",
              "      <td>1</td>\n",
              "    </tr>\n",
              "    <tr>\n",
              "      <th>4426</th>\n",
              "      <td>6191</td>\n",
              "      <td>22</td>\n",
              "      <td>76301</td>\n",
              "      <td>36</td>\n",
              "      <td>4</td>\n",
              "      <td>21.5</td>\n",
              "      <td>6</td>\n",
              "      <td>217859</td>\n",
              "      <td>34</td>\n",
              "      <td>0.136364</td>\n",
              "      <td>0</td>\n",
              "    </tr>\n",
              "    <tr>\n",
              "      <th>4427</th>\n",
              "      <td>6191</td>\n",
              "      <td>22</td>\n",
              "      <td>76301</td>\n",
              "      <td>36</td>\n",
              "      <td>4</td>\n",
              "      <td>21.5</td>\n",
              "      <td>6</td>\n",
              "      <td>217859</td>\n",
              "      <td>35</td>\n",
              "      <td>0.227273</td>\n",
              "      <td>0</td>\n",
              "    </tr>\n",
              "  </tbody>\n",
              "</table>\n",
              "<p>16215179 rows × 11 columns</p>\n",
              "</div>"
            ],
            "text/plain": [
              "      tournament_id  n_teams  ...  question_answer_rate  answer\n",
              "0              4772      231  ...              0.883117       1\n",
              "1              4772      231  ...              0.779221       1\n",
              "2              4772      231  ...              0.445887       1\n",
              "3              4772      231  ...              0.519481       1\n",
              "4              4772      231  ...              0.878788       1\n",
              "...             ...      ...  ...                   ...     ...\n",
              "4423           6191       22  ...              0.000000       0\n",
              "4424           6191       22  ...              0.136364       0\n",
              "4425           6191       22  ...              0.818182       1\n",
              "4426           6191       22  ...              0.136364       0\n",
              "4427           6191       22  ...              0.227273       0\n",
              "\n",
              "[16215179 rows x 11 columns]"
            ]
          },
          "metadata": {
            "tags": []
          },
          "execution_count": 16
        }
      ]
    },
    {
      "cell_type": "code",
      "metadata": {
        "id": "03egEn--LpI5"
      },
      "source": [
        ""
      ],
      "execution_count": null,
      "outputs": []
    },
    {
      "cell_type": "markdown",
      "metadata": {
        "id": "rH8OMVSDN7xq"
      },
      "source": [
        "## Part I: Logistic Regression"
      ]
    },
    {
      "cell_type": "markdown",
      "metadata": {
        "id": "OXLZYv34OHTz"
      },
      "source": [
        "Let us gather data to classify whether a player with some characteristics would give correct answer to a question.\n",
        "I propose using features\n",
        "- player answer ratio - actually this metric effectively describes power of player\n",
        "- average position of player in his team performance\n",
        "- average number of players per team\n",
        "- average number of teams per tournament\n",
        "- question answer ratio - this may be used to induce hardness of question"
      ]
    },
    {
      "cell_type": "code",
      "metadata": {
        "id": "2PpSmYeRLpI6"
      },
      "source": [
        "def prepare_logreg_data(data, scaler=None, fit_scaler=None):\n",
        "    data_ = data.copy()\n",
        "    model_data = data.groupby('player_id')['answer'].mean().to_frame().reset_index().rename(columns={'answer': 'player_answer_rate'})\n",
        "    df = data_[['player_id', 'position', 'n_teams']].drop_duplicates()\n",
        "    df['normed_pos'] = df['position'] / df['n_teams']\n",
        "    df = df.groupby('player_id')['normed_pos'].mean().to_frame().reset_index().rename(columns={'normed_pos': 'avg_normed_pos'})\n",
        "    model_data = pd.merge(model_data, df, on='player_id')\n",
        "    df = data_[['player_id', 'n_team_players']].drop_duplicates()\n",
        "    df = df.groupby('player_id')['n_team_players'].mean().to_frame().reset_index().rename(columns={'n_team_players': 'avg_n_team_players'})\n",
        "    model_data = pd.merge(model_data, df, on='player_id')\n",
        "    df = data_[['player_id', 'n_teams']].drop_duplicates()\n",
        "    df = df.groupby('player_id')['n_teams'].mean().to_frame().reset_index().rename(columns={'n_teams': 'avg_n_teams_per_tournament'})\n",
        "    model_data = pd.merge(model_data, df, on='player_id')\n",
        "    df = data_[['player_id', 'question_answer_rate', 'answer']]\n",
        "    model_data = pd.merge(model_data, df, on='player_id')\n",
        "    del data_, df\n",
        "    if scaler is not None:\n",
        "        if fit_scaler == True:\n",
        "            model_data[['avg_n_team_players', 'avg_n_teams_per_tournament']] = scaler.fit_transform(model_data[['avg_n_team_players', 'avg_n_teams_per_tournament']])\n",
        "        else:\n",
        "            model_data[['avg_n_team_players', 'avg_n_teams_per_tournament']] = scaler.transform(model_data[['avg_n_team_players', 'avg_n_teams_per_tournament']])\n",
        "        return model_data, scaler\n",
        "    gc.collect()\n",
        "    return model_data"
      ],
      "execution_count": null,
      "outputs": []
    },
    {
      "cell_type": "code",
      "metadata": {
        "colab": {
          "base_uri": "https://localhost:8080/"
        },
        "id": "WQbQGj-BLpI7",
        "outputId": "271e3ebe-46e6-4e46-a649-1f654628b0a0"
      },
      "source": [
        "%%time\n",
        "scaler = MinMaxScaler()\n",
        "logreg_data_2019, scaler = prepare_logreg_data(data_2019, scaler, fit_scaler=True)\n",
        "logreg_data_2020, scaler = prepare_logreg_data(data_2020, scaler, fit_scaler=False)"
      ],
      "execution_count": null,
      "outputs": [
        {
          "output_type": "stream",
          "text": [
            "CPU times: user 13.7 s, sys: 6.3 s, total: 20 s\n",
            "Wall time: 20 s\n"
          ],
          "name": "stdout"
        }
      ]
    },
    {
      "cell_type": "code",
      "metadata": {
        "colab": {
          "base_uri": "https://localhost:8080/",
          "height": 419
        },
        "id": "ktA5R2YnLpI7",
        "outputId": "dc260d9b-f6f6-4e98-d03c-d222475f44e9"
      },
      "source": [
        "logreg_data_2019"
      ],
      "execution_count": null,
      "outputs": [
        {
          "output_type": "execute_result",
          "data": {
            "text/html": [
              "<div>\n",
              "<style scoped>\n",
              "    .dataframe tbody tr th:only-of-type {\n",
              "        vertical-align: middle;\n",
              "    }\n",
              "\n",
              "    .dataframe tbody tr th {\n",
              "        vertical-align: top;\n",
              "    }\n",
              "\n",
              "    .dataframe thead th {\n",
              "        text-align: right;\n",
              "    }\n",
              "</style>\n",
              "<table border=\"1\" class=\"dataframe\">\n",
              "  <thead>\n",
              "    <tr style=\"text-align: right;\">\n",
              "      <th></th>\n",
              "      <th>player_id</th>\n",
              "      <th>player_answer_rate</th>\n",
              "      <th>avg_normed_pos</th>\n",
              "      <th>avg_n_team_players</th>\n",
              "      <th>avg_n_teams_per_tournament</th>\n",
              "      <th>question_answer_rate</th>\n",
              "      <th>answer</th>\n",
              "    </tr>\n",
              "  </thead>\n",
              "  <tbody>\n",
              "    <tr>\n",
              "      <th>0</th>\n",
              "      <td>15</td>\n",
              "      <td>0.347193</td>\n",
              "      <td>0.717550</td>\n",
              "      <td>0.391304</td>\n",
              "      <td>0.208927</td>\n",
              "      <td>0.561831</td>\n",
              "      <td>1</td>\n",
              "    </tr>\n",
              "    <tr>\n",
              "      <th>1</th>\n",
              "      <td>15</td>\n",
              "      <td>0.347193</td>\n",
              "      <td>0.717550</td>\n",
              "      <td>0.391304</td>\n",
              "      <td>0.208927</td>\n",
              "      <td>0.803311</td>\n",
              "      <td>1</td>\n",
              "    </tr>\n",
              "    <tr>\n",
              "      <th>2</th>\n",
              "      <td>15</td>\n",
              "      <td>0.347193</td>\n",
              "      <td>0.717550</td>\n",
              "      <td>0.391304</td>\n",
              "      <td>0.208927</td>\n",
              "      <td>0.773126</td>\n",
              "      <td>1</td>\n",
              "    </tr>\n",
              "    <tr>\n",
              "      <th>3</th>\n",
              "      <td>15</td>\n",
              "      <td>0.347193</td>\n",
              "      <td>0.717550</td>\n",
              "      <td>0.391304</td>\n",
              "      <td>0.208927</td>\n",
              "      <td>0.539435</td>\n",
              "      <td>0</td>\n",
              "    </tr>\n",
              "    <tr>\n",
              "      <th>4</th>\n",
              "      <td>15</td>\n",
              "      <td>0.347193</td>\n",
              "      <td>0.717550</td>\n",
              "      <td>0.391304</td>\n",
              "      <td>0.208927</td>\n",
              "      <td>0.296981</td>\n",
              "      <td>0</td>\n",
              "    </tr>\n",
              "    <tr>\n",
              "      <th>...</th>\n",
              "      <td>...</td>\n",
              "      <td>...</td>\n",
              "      <td>...</td>\n",
              "      <td>...</td>\n",
              "      <td>...</td>\n",
              "      <td>...</td>\n",
              "      <td>...</td>\n",
              "    </tr>\n",
              "    <tr>\n",
              "      <th>16215174</th>\n",
              "      <td>224542</td>\n",
              "      <td>0.750000</td>\n",
              "      <td>0.159509</td>\n",
              "      <td>0.260870</td>\n",
              "      <td>0.131687</td>\n",
              "      <td>0.570552</td>\n",
              "      <td>1</td>\n",
              "    </tr>\n",
              "    <tr>\n",
              "      <th>16215175</th>\n",
              "      <td>224542</td>\n",
              "      <td>0.750000</td>\n",
              "      <td>0.159509</td>\n",
              "      <td>0.260870</td>\n",
              "      <td>0.131687</td>\n",
              "      <td>0.736196</td>\n",
              "      <td>1</td>\n",
              "    </tr>\n",
              "    <tr>\n",
              "      <th>16215176</th>\n",
              "      <td>224542</td>\n",
              "      <td>0.750000</td>\n",
              "      <td>0.159509</td>\n",
              "      <td>0.260870</td>\n",
              "      <td>0.131687</td>\n",
              "      <td>0.920245</td>\n",
              "      <td>1</td>\n",
              "    </tr>\n",
              "    <tr>\n",
              "      <th>16215177</th>\n",
              "      <td>224542</td>\n",
              "      <td>0.750000</td>\n",
              "      <td>0.159509</td>\n",
              "      <td>0.260870</td>\n",
              "      <td>0.131687</td>\n",
              "      <td>0.533742</td>\n",
              "      <td>1</td>\n",
              "    </tr>\n",
              "    <tr>\n",
              "      <th>16215178</th>\n",
              "      <td>224542</td>\n",
              "      <td>0.750000</td>\n",
              "      <td>0.159509</td>\n",
              "      <td>0.260870</td>\n",
              "      <td>0.131687</td>\n",
              "      <td>0.883436</td>\n",
              "      <td>1</td>\n",
              "    </tr>\n",
              "  </tbody>\n",
              "</table>\n",
              "<p>16215179 rows × 7 columns</p>\n",
              "</div>"
            ],
            "text/plain": [
              "          player_id  player_answer_rate  ...  question_answer_rate  answer\n",
              "0                15            0.347193  ...              0.561831       1\n",
              "1                15            0.347193  ...              0.803311       1\n",
              "2                15            0.347193  ...              0.773126       1\n",
              "3                15            0.347193  ...              0.539435       0\n",
              "4                15            0.347193  ...              0.296981       0\n",
              "...             ...                 ...  ...                   ...     ...\n",
              "16215174     224542            0.750000  ...              0.570552       1\n",
              "16215175     224542            0.750000  ...              0.736196       1\n",
              "16215176     224542            0.750000  ...              0.920245       1\n",
              "16215177     224542            0.750000  ...              0.533742       1\n",
              "16215178     224542            0.750000  ...              0.883436       1\n",
              "\n",
              "[16215179 rows x 7 columns]"
            ]
          },
          "metadata": {
            "tags": []
          },
          "execution_count": 19
        }
      ]
    },
    {
      "cell_type": "code",
      "metadata": {
        "colab": {
          "base_uri": "https://localhost:8080/"
        },
        "id": "X1P-UvNxLpI-",
        "outputId": "c46b3262-229e-403f-83fe-9bd086b3834c"
      },
      "source": [
        "%%time\n",
        "X_train = logreg_data_2019.drop(columns=['player_id', 'answer']) \n",
        "y_train = logreg_data_2019['answer'].values\n",
        "X_test = logreg_data_2020.drop(columns=['player_id', 'answer'])\n",
        "y_test = logreg_data_2020['answer'].values\n",
        "\n",
        "model = LogisticRegression()\n",
        "model.fit(X_train, y_train)"
      ],
      "execution_count": null,
      "outputs": [
        {
          "output_type": "stream",
          "text": [
            "CPU times: user 54.2 s, sys: 4.67 s, total: 58.8 s\n",
            "Wall time: 48.1 s\n"
          ],
          "name": "stdout"
        }
      ]
    },
    {
      "cell_type": "markdown",
      "metadata": {
        "id": "r79A6UAHUlAw"
      },
      "source": [
        "### Check performance of baseline Logistic Regression"
      ]
    },
    {
      "cell_type": "code",
      "metadata": {
        "colab": {
          "base_uri": "https://localhost:8080/"
        },
        "id": "2LaYut-fOBef",
        "outputId": "184780f8-68aa-46db-cb6e-be5a506f7917"
      },
      "source": [
        "model.score(X_train, y_train), model.score(X_test, y_test)"
      ],
      "execution_count": null,
      "outputs": [
        {
          "output_type": "execute_result",
          "data": {
            "text/plain": [
              "(0.764902441101637, 0.7674482549139406)"
            ]
          },
          "metadata": {
            "tags": []
          },
          "execution_count": 21
        }
      ]
    },
    {
      "cell_type": "code",
      "metadata": {
        "colab": {
          "base_uri": "https://localhost:8080/",
          "height": 428
        },
        "id": "TBLKZi_xOBnk",
        "outputId": "2eddf06b-12ed-4ecb-eae9-6d5a1bb7c8c8"
      },
      "source": [
        "logreg_test_pred = model.predict_proba(X_test)[:, 1]\n",
        "\n",
        "plt.figure(figsize=(9, 7))\n",
        "sns.distplot(logreg_test_pred);"
      ],
      "execution_count": null,
      "outputs": [
        {
          "output_type": "display_data",
          "data": {
            "image/png": "[encoded data removed]",
            "text/plain": [
              "<Figure size 648x504 with 1 Axes>"
            ]
          },
          "metadata": {
            "tags": [],
            "needs_background": "light"
          }
        }
      ]
    },
    {
      "cell_type": "code",
      "metadata": {
        "id": "ofBZg51WSsji"
      },
      "source": [
        ""
      ],
      "execution_count": null,
      "outputs": []
    },
    {
      "cell_type": "markdown",
      "metadata": {
        "id": "H8sradfEfetd"
      },
      "source": [
        "### Player rating and Team rating\n",
        "\n",
        "I propose to define player rating/force as average predicted correct answer. \n",
        "\n",
        "Rating/force of team is defined as sum of player ratings/forces. I prefer summation over taking average because teams may have different number of players, and it is quite reasonable to assume that team with larger number of players has more power and more chance to answer correctly. "
      ]
    },
    {
      "cell_type": "code",
      "metadata": {
        "colab": {
          "base_uri": "https://localhost:8080/",
          "height": 142
        },
        "id": "4xTBuGbtSsg4",
        "outputId": "4872037a-6917-4264-fa07-053eb3e9bca7"
      },
      "source": [
        "player_rating = pd.DataFrame()\n",
        "player_rating['player_id'] = logreg_data_2020['player_id']\n",
        "player_rating['predicted_result'] = logreg_test_pred\n",
        "player_rating = player_rating.groupby('player_id')['predicted_result'].mean().to_frame().reset_index().rename(columns={'predicted_result': 'player_rating'})\n",
        "player_rating.head(3)"
      ],
      "execution_count": null,
      "outputs": [
        {
          "output_type": "execute_result",
          "data": {
            "text/html": [
              "<div>\n",
              "<style scoped>\n",
              "    .dataframe tbody tr th:only-of-type {\n",
              "        vertical-align: middle;\n",
              "    }\n",
              "\n",
              "    .dataframe tbody tr th {\n",
              "        vertical-align: top;\n",
              "    }\n",
              "\n",
              "    .dataframe thead th {\n",
              "        text-align: right;\n",
              "    }\n",
              "</style>\n",
              "<table border=\"1\" class=\"dataframe\">\n",
              "  <thead>\n",
              "    <tr style=\"text-align: right;\">\n",
              "      <th></th>\n",
              "      <th>player_id</th>\n",
              "      <th>player_rating</th>\n",
              "    </tr>\n",
              "  </thead>\n",
              "  <tbody>\n",
              "    <tr>\n",
              "      <th>0</th>\n",
              "      <td>15</td>\n",
              "      <td>0.367122</td>\n",
              "    </tr>\n",
              "    <tr>\n",
              "      <th>1</th>\n",
              "      <td>16</td>\n",
              "      <td>0.336243</td>\n",
              "    </tr>\n",
              "    <tr>\n",
              "      <th>2</th>\n",
              "      <td>23</td>\n",
              "      <td>0.297360</td>\n",
              "    </tr>\n",
              "  </tbody>\n",
              "</table>\n",
              "</div>"
            ],
            "text/plain": [
              "   player_id  player_rating\n",
              "0         15       0.367122\n",
              "1         16       0.336243\n",
              "2         23       0.297360"
            ]
          },
          "metadata": {
            "tags": []
          },
          "execution_count": 25
        }
      ]
    },
    {
      "cell_type": "code",
      "metadata": {
        "colab": {
          "base_uri": "https://localhost:8080/",
          "height": 419
        },
        "id": "6fFIhid-eUc4",
        "outputId": "77e4c4c4-f4a8-4c0e-f8a9-6f9b294e7717"
      },
      "source": [
        "test_results = pd.merge(data_2020[['tournament_id', 'team_id', 'n_correct', 'position', 'player_id']].drop_duplicates(), player_rating, on='player_id')\n",
        "team_rating = test_results.groupby(['tournament_id', 'team_id'])['player_rating'].sum().to_frame().reset_index().rename(columns={'player_rating': 'team_rating'})\n",
        "test_results = pd.merge(test_results[['tournament_id', 'team_id', 'n_correct', 'position']].drop_duplicates(), team_rating, on=['tournament_id', 'team_id'])\n",
        "test_results"
      ],
      "execution_count": null,
      "outputs": [
        {
          "output_type": "execute_result",
          "data": {
            "text/html": [
              "<div>\n",
              "<style scoped>\n",
              "    .dataframe tbody tr th:only-of-type {\n",
              "        vertical-align: middle;\n",
              "    }\n",
              "\n",
              "    .dataframe tbody tr th {\n",
              "        vertical-align: top;\n",
              "    }\n",
              "\n",
              "    .dataframe thead th {\n",
              "        text-align: right;\n",
              "    }\n",
              "</style>\n",
              "<table border=\"1\" class=\"dataframe\">\n",
              "  <thead>\n",
              "    <tr style=\"text-align: right;\">\n",
              "      <th></th>\n",
              "      <th>tournament_id</th>\n",
              "      <th>team_id</th>\n",
              "      <th>n_correct</th>\n",
              "      <th>position</th>\n",
              "      <th>team_rating</th>\n",
              "    </tr>\n",
              "  </thead>\n",
              "  <tbody>\n",
              "    <tr>\n",
              "      <th>0</th>\n",
              "      <td>4957</td>\n",
              "      <td>49804</td>\n",
              "      <td>26</td>\n",
              "      <td>1.0</td>\n",
              "      <td>4.335212</td>\n",
              "    </tr>\n",
              "    <tr>\n",
              "      <th>1</th>\n",
              "      <td>5414</td>\n",
              "      <td>46381</td>\n",
              "      <td>30</td>\n",
              "      <td>5.0</td>\n",
              "      <td>4.113645</td>\n",
              "    </tr>\n",
              "    <tr>\n",
              "      <th>2</th>\n",
              "      <td>5719</td>\n",
              "      <td>2865</td>\n",
              "      <td>27</td>\n",
              "      <td>24.0</td>\n",
              "      <td>3.797732</td>\n",
              "    </tr>\n",
              "    <tr>\n",
              "      <th>3</th>\n",
              "      <td>5730</td>\n",
              "      <td>49758</td>\n",
              "      <td>32</td>\n",
              "      <td>1.0</td>\n",
              "      <td>4.258779</td>\n",
              "    </tr>\n",
              "    <tr>\n",
              "      <th>4</th>\n",
              "      <td>5754</td>\n",
              "      <td>77648</td>\n",
              "      <td>28</td>\n",
              "      <td>53.5</td>\n",
              "      <td>2.780440</td>\n",
              "    </tr>\n",
              "    <tr>\n",
              "      <th>...</th>\n",
              "      <td>...</td>\n",
              "      <td>...</td>\n",
              "      <td>...</td>\n",
              "      <td>...</td>\n",
              "      <td>...</td>\n",
              "    </tr>\n",
              "    <tr>\n",
              "      <th>19871</th>\n",
              "      <td>6339</td>\n",
              "      <td>73580</td>\n",
              "      <td>5</td>\n",
              "      <td>29.5</td>\n",
              "      <td>1.246144</td>\n",
              "    </tr>\n",
              "    <tr>\n",
              "      <th>19872</th>\n",
              "      <td>6339</td>\n",
              "      <td>77762</td>\n",
              "      <td>5</td>\n",
              "      <td>29.5</td>\n",
              "      <td>0.613780</td>\n",
              "    </tr>\n",
              "    <tr>\n",
              "      <th>19873</th>\n",
              "      <td>6339</td>\n",
              "      <td>77760</td>\n",
              "      <td>2</td>\n",
              "      <td>31.0</td>\n",
              "      <td>0.911765</td>\n",
              "    </tr>\n",
              "    <tr>\n",
              "      <th>19874</th>\n",
              "      <td>6340</td>\n",
              "      <td>77760</td>\n",
              "      <td>1</td>\n",
              "      <td>27.0</td>\n",
              "      <td>0.911765</td>\n",
              "    </tr>\n",
              "    <tr>\n",
              "      <th>19875</th>\n",
              "      <td>6428</td>\n",
              "      <td>71490</td>\n",
              "      <td>9</td>\n",
              "      <td>12.0</td>\n",
              "      <td>0.665204</td>\n",
              "    </tr>\n",
              "  </tbody>\n",
              "</table>\n",
              "<p>19876 rows × 5 columns</p>\n",
              "</div>"
            ],
            "text/plain": [
              "       tournament_id  team_id  n_correct  position  team_rating\n",
              "0               4957    49804         26       1.0     4.335212\n",
              "1               5414    46381         30       5.0     4.113645\n",
              "2               5719     2865         27      24.0     3.797732\n",
              "3               5730    49758         32       1.0     4.258779\n",
              "4               5754    77648         28      53.5     2.780440\n",
              "...              ...      ...        ...       ...          ...\n",
              "19871           6339    73580          5      29.5     1.246144\n",
              "19872           6339    77762          5      29.5     0.613780\n",
              "19873           6339    77760          2      31.0     0.911765\n",
              "19874           6340    77760          1      27.0     0.911765\n",
              "19875           6428    71490          9      12.0     0.665204\n",
              "\n",
              "[19876 rows x 5 columns]"
            ]
          },
          "metadata": {
            "tags": []
          },
          "execution_count": 26
        }
      ]
    },
    {
      "cell_type": "code",
      "metadata": {
        "id": "OosLHL7V8f5Z"
      },
      "source": [
        "def correlation(test_results):\n",
        "    \"\"\"\n",
        "    Calculates Kendall and Spearman correlation.\n",
        "    Needs columns: \"tournament_id\", \"n_correct\", \"team_rating\"\n",
        "    \"\"\"\n",
        "    kendall = np.array([])\n",
        "    spearman = np.array([])\n",
        "    for tournament_id in tqdm(test_results['tournament_id'].unique()):\n",
        "        results_per_tournament = test_results[test_results['tournament_id'] == tournament_id]\n",
        "        kendall_per_tour = stats.kendalltau(results_per_tournament['n_correct'], results_per_tournament['team_rating']).correlation\n",
        "        spearman_per_tour = stats.spearmanr(results_per_tournament['n_correct'], results_per_tournament['team_rating']).correlation\n",
        "        kendall = kendall if (np.isnan(kendall_per_tour) or (kendall_per_tour < 0.)) else np.append(kendall, kendall_per_tour)\n",
        "        spearman = spearman if (np.isnan(spearman_per_tour) or (spearman_per_tour < 0.)) else np.append(spearman, spearman_per_tour)\n",
        "    print(f\"Average Kendall correlation: {np.mean(kendall)}\")\n",
        "    print(f\"Average Spearman correlation: {np.mean(spearman)}\")"
      ],
      "execution_count": null,
      "outputs": []
    },
    {
      "cell_type": "markdown",
      "metadata": {
        "id": "O_7463uyWw8T"
      },
      "source": [
        "Calculate correlation of true test results and evaluated team rating/force. "
      ]
    },
    {
      "cell_type": "code",
      "metadata": {
        "colab": {
          "base_uri": "https://localhost:8080/",
          "height": 100,
          "referenced_widgets": [
            "1c98fdad21f440208db1aefcec4d7a91",
            "226c94c9c5f5463b883241017a72adaa",
            "e6e93c6808884b55a203a9ff5f16a1c1",
            "fe4952b09a644e63a70065f0e203a115",
            "547cbaf076d3458c9133ff7ae4524c7c",
            "f29d27bb086e4ce1832cb9e0b718e1c5",
            "d59d1726f34947b0b5602bf82d081b14",
            "823e5f5b6eab491aa8cb2102ed15a78b"
          ]
        },
        "id": "MQQxFYzMpWV9",
        "outputId": "378b37f3-2f57-499c-ac88-fe40d2b92c46"
      },
      "source": [
        "correlation(test_results)"
      ],
      "execution_count": null,
      "outputs": [
        {
          "output_type": "display_data",
          "data": {
            "application/vnd.jupyter.widget-view+json": {
              "model_id": "1c98fdad21f440208db1aefcec4d7a91",
              "version_minor": 0,
              "version_major": 2
            },
            "text/plain": [
              "HBox(children=(FloatProgress(value=0.0, max=165.0), HTML(value='')))"
            ]
          },
          "metadata": {
            "tags": []
          }
        },
        {
          "output_type": "stream",
          "text": [
            "\n",
            "Average Kendall correlation: 0.5788318023546257\n",
            "Average Spearman correlation: 0.7378390940836967\n"
          ],
          "name": "stdout"
        }
      ]
    },
    {
      "cell_type": "code",
      "metadata": {
        "id": "kw61i_vtsYOo",
        "colab": {
          "base_uri": "https://localhost:8080/"
        },
        "outputId": "28c84a52-4b28-4d2b-8cff-d057e5321de7"
      },
      "source": [
        "del logreg_data_2019, logreg_data_2020\n",
        "gc.collect()"
      ],
      "execution_count": null,
      "outputs": [
        {
          "output_type": "execute_result",
          "data": {
            "text/plain": [
              "0"
            ]
          },
          "metadata": {
            "tags": []
          },
          "execution_count": 29
        }
      ]
    },
    {
      "cell_type": "code",
      "metadata": {
        "id": "OhbjrWBmk9uz"
      },
      "source": [
        ""
      ],
      "execution_count": null,
      "outputs": []
    },
    {
      "cell_type": "markdown",
      "metadata": {
        "id": "ex2c_UyA-CR_"
      },
      "source": [
        "## Part II: EM-algorithm"
      ]
    },
    {
      "cell_type": "markdown",
      "metadata": {
        "id": "55bbn5mI-U3f"
      },
      "source": [
        "### Idea:\n",
        "Let us consider result of one team in a tournament. We have an array of answers $(1,1,0,1,..).$ I propose to consider this result as mixture of performances of each player in command, applying that each player has his own *player_force*. It is convenient to operate with *player_force* as probability of correct answer $\\rightarrow$ success/failure in Bernoulli experiment $(1, f)$, here $\\ f$ - probability of success (~force of player).\n",
        "\n",
        "So, for fixed $t \\in \\{1, \\dots, T\\}$ - number of all teams in dataset (unique team up to tournament) we consider Bernoulli mixture model:\n",
        "$$\n",
        "    p(x) = \\sum_{k=1}^{K_t} \\pi_k^t \\ p(x, f_k^t),\n",
        "$$\n",
        "where \n",
        "$k \\in \\{1, ... K_t\\}$ - index of player in group $t, \\quad$\n",
        "$\\pi_k^t$ - weight of $k$-th player in team performance, $\\quad$\n",
        "$p(x, f_k^t) = (f_k^t)^x \\ (1 - f_k^t)^{1-x} \\ \\sim Bi(1, f_k^t) -$ Bernoulli distribution responding to $k$-th player.\n",
        "\n",
        "Also, for each fixed team result $t$ we consider mask of answers $\\rightarrow x_1^t, \\dots x_{N_t}^t, \\ x_n^t$ equals to one or zero (correct/incorrect answer), $N_t - $ number of observations (questions) in each team data. Each of $x_n^t$ is a realisation of random variable $X$ with mixture distribution.\n",
        "\n",
        "We deal with mixture of distributions, hence the usage of EM-algorithm for mixture decomposition would be quite useful. Now we introduce set of latent variables $\\{Z_{nk}^t\\}$ which indicate that result on $n$-th question was influenced by $k$-th player. Write down loglikelihood:\n",
        "$$\n",
        "    \\log(L(X, Z)) = \\sum_{n=1}^{N_t} \\sum_{k=1}^{K_t} Z_{nk}^t [ \\log(\\pi_k^t) + \\log(p(X_n^t, f_k^t))].\n",
        "$$\n",
        "\n",
        "<br>\n",
        "\n",
        "The **EM-algorithm** runs as follows.\n",
        "\n",
        "First we start from some initial player weights and player forces. I propose to use (upper index $t$ was omitted not to overload formulas):\n",
        "$$\n",
        "    \\pi_k^{(0)} = \\dfrac{1}{K}, \\ f_k^{(0)} = \\dfrac{1}{N} \\sum_{n=1}^N x_n.\n",
        "$$\n",
        "\n",
        "\n",
        "**E-step:** Calculate expectation of loglikelihood under condition of data $X$:\n",
        "\n",
        "$$\n",
        "    \\mathbb{E} Z_{nk} = \\dfrac{\\pi_k \\ p(x_n, f_k)}{\\sum_{j=1}^K \\pi_j \\ p(x_n, f_j)}.\n",
        "$$ \n",
        "\n",
        "**M-step:** Maximize loglikelihood with respect to parameters $\\pi, f$. In this form it is easy to calculate gradients, let us set them to zero and derive formulas for updating parameters:\n",
        "\n",
        "$$\n",
        "    \\pi_k = \\dfrac{1}{N} \\sum_{n=1}^N \\mathbb{E} z_{nk}, \\\\\n",
        "    f_k = \\dfrac{\\sum_{n=1}^N \\mathbb{E} z_{nk} \\ x_n}{\\sum_{n=1}^N \\mathbb{E} z_{nk}}.\n",
        "$$\n",
        "\n",
        "So, the procedure is ready :)\n",
        "\n",
        "<br>\n",
        "\n",
        "**Final action:** By now we considered each team independently, all solutions above are correct up to team index $t$, so the algorithm updates <u>weights of player in team</u> and <u>force of player in team</u>. But we know that any player may take part in different tournaments in different teams, thus all we need to do is to aggregate player forces (via taking average) among all player performances in different teams. Now an iteration is completed.\n",
        "\n",
        "\n",
        "<br>\n",
        "\n",
        "Notes on implementation:\n",
        "- $x_n$ in our case equal to either one or zero, hence calculation of density is very simple: $\\ p(x, f) = f \\ \\mathbb{1}[x=1] + (1 - f) \\mathbb{1}[x=0]$\n",
        "- variables in code: $\\ \\mathbb{E}z$ - *latent*, $\\ \\pi$ - *player_team_weight*, $\\ f$ - *player_force*."
      ]
    },
    {
      "cell_type": "code",
      "metadata": {
        "id": "iJPQrURxNB87"
      },
      "source": [
        "def prepare_EM_data(data):\n",
        "    df_team_tour_id = data[['tournament_id', 'team_id']].drop_duplicates().reset_index(drop=True).reset_index().rename(columns={'index': 'team_tour_id'})\n",
        "    data = pd.merge(data, df_team_tour_id, on=['tournament_id', 'team_id']).drop(columns=['tournament_id', 'team_id'])\n",
        "\n",
        "    # add initial parameters for EM-algorithm\n",
        "    data['player_team_weight'] = 1. / data['n_team_players']\n",
        "    data['player_force'] = data['n_correct'] / data['n_questions']\n",
        "    \n",
        "    data = data[['team_tour_id', 'question_id', 'player_id', 'answer', 'player_team_weight', 'player_force']].sort_values(['team_tour_id', 'question_id'])\n",
        "    return data"
      ],
      "execution_count": null,
      "outputs": []
    },
    {
      "cell_type": "code",
      "metadata": {
        "id": "qX8xkIBBXIj2"
      },
      "source": [
        "def em_process(team_data):\n",
        "    K = team_data['player_id'].nunique()\n",
        "    N = team_data['question_id'].nunique()\n",
        "\n",
        "    x, pi, f = team_data['answer'].values, team_data['player_team_weight'].values, team_data['player_force'].values\n",
        "\n",
        "    # E-step: calculate expectations of latent variables\n",
        "    z = pi * (x * f + (1. - x) * (1. - f))\n",
        "    z = z.reshape(N, K) / z.reshape(N, K).sum(axis=1)[:, None]\n",
        "    z = z.reshape(-1)\n",
        "    \n",
        "    # M-step: update weights (pi = player_team_weight) and player parameters (f = player_force)\n",
        "    pi = z.reshape(N, K).mean(axis=0)\n",
        "    f = (x * z).reshape(N, K).sum(axis=0) / z.reshape(N, K).sum(axis=0)\n",
        "    \n",
        "    team_data['latent'] = z\n",
        "    team_data['player_team_weight'] = np.tile(pi, N)\n",
        "    team_data['player_force'] = np.tile(f, N)\n",
        "    return team_data\n",
        "\n",
        "\n",
        "def EM(data, n_iterations):\n",
        "    data = data.copy()\n",
        "    for _ in tqdm(range(n_iterations)):\n",
        "        \n",
        "        # Run EM-algorithm for each team independently\n",
        "        data = data.groupby('team_tour_id').apply(em_process)\n",
        "        \n",
        "        # update player_force from all his/hers performances in different teams\n",
        "        player_to_force = data[['player_id', 'player_force', 'team_tour_id']].groupby('player_id')['player_force'].mean().to_dict()\n",
        "        data['player_force'] = data['player_id'].map(player_to_force)\n",
        "\n",
        "    player_force = data[['player_id', 'player_force']].drop_duplicates()\n",
        "    return data, player_force"
      ],
      "execution_count": null,
      "outputs": []
    },
    {
      "cell_type": "code",
      "metadata": {
        "colab": {
          "base_uri": "https://localhost:8080/",
          "height": 100,
          "referenced_widgets": [
            "37672d8425c84d95ad5103c54b26ec27",
            "5290018b2ace4ac2a674beef6100a9e7",
            "4705af2426f14c5bab61cd3d5bbaee79",
            "d59e6cc53e23426086f0126e876a3b68",
            "d2ed1f18a4bc49f9b99c8561d0286f2b",
            "8f11b7fe617f4c1993b86fbfa067499f",
            "653fa051546f48aaa5b024703c3bfdce",
            "90bc2cbfce92449882bcc03c8ac6f67c"
          ]
        },
        "id": "DT7DxqxyXc0H",
        "outputId": "4dabce73-163e-4be1-c638-98ae01a0e0b4"
      },
      "source": [
        "%%time\n",
        "em_data_2020 = prepare_data(games_2020)\n",
        "em_data_2020 = prepare_EM_data(em_data_2020)"
      ],
      "execution_count": null,
      "outputs": [
        {
          "output_type": "display_data",
          "data": {
            "application/vnd.jupyter.widget-view+json": {
              "model_id": "37672d8425c84d95ad5103c54b26ec27",
              "version_minor": 0,
              "version_major": 2
            },
            "text/plain": [
              "HBox(children=(FloatProgress(value=0.0, max=391.0), HTML(value='')))"
            ]
          },
          "metadata": {
            "tags": []
          }
        },
        {
          "output_type": "stream",
          "text": [
            "\n",
            "CPU times: user 10.2 s, sys: 795 ms, total: 11 s\n",
            "Wall time: 11 s\n"
          ],
          "name": "stdout"
        }
      ]
    },
    {
      "cell_type": "code",
      "metadata": {
        "colab": {
          "base_uri": "https://localhost:8080/",
          "height": 419
        },
        "id": "1H6PfP0pc0ds",
        "outputId": "150ad221-b697-4d3c-d2f4-d4ae34347804"
      },
      "source": [
        "em_data_2020"
      ],
      "execution_count": null,
      "outputs": [
        {
          "output_type": "execute_result",
          "data": {
            "text/html": [
              "<div>\n",
              "<style scoped>\n",
              "    .dataframe tbody tr th:only-of-type {\n",
              "        vertical-align: middle;\n",
              "    }\n",
              "\n",
              "    .dataframe tbody tr th {\n",
              "        vertical-align: top;\n",
              "    }\n",
              "\n",
              "    .dataframe thead th {\n",
              "        text-align: right;\n",
              "    }\n",
              "</style>\n",
              "<table border=\"1\" class=\"dataframe\">\n",
              "  <thead>\n",
              "    <tr style=\"text-align: right;\">\n",
              "      <th></th>\n",
              "      <th>team_tour_id</th>\n",
              "      <th>question_id</th>\n",
              "      <th>player_id</th>\n",
              "      <th>answer</th>\n",
              "      <th>player_team_weight</th>\n",
              "      <th>player_force</th>\n",
              "    </tr>\n",
              "  </thead>\n",
              "  <tbody>\n",
              "    <tr>\n",
              "      <th>0</th>\n",
              "      <td>0</td>\n",
              "      <td>0</td>\n",
              "      <td>30152</td>\n",
              "      <td>1</td>\n",
              "      <td>0.166667</td>\n",
              "      <td>0.666667</td>\n",
              "    </tr>\n",
              "    <tr>\n",
              "      <th>39</th>\n",
              "      <td>0</td>\n",
              "      <td>0</td>\n",
              "      <td>30270</td>\n",
              "      <td>1</td>\n",
              "      <td>0.166667</td>\n",
              "      <td>0.666667</td>\n",
              "    </tr>\n",
              "    <tr>\n",
              "      <th>78</th>\n",
              "      <td>0</td>\n",
              "      <td>0</td>\n",
              "      <td>27822</td>\n",
              "      <td>1</td>\n",
              "      <td>0.166667</td>\n",
              "      <td>0.666667</td>\n",
              "    </tr>\n",
              "    <tr>\n",
              "      <th>117</th>\n",
              "      <td>0</td>\n",
              "      <td>0</td>\n",
              "      <td>28751</td>\n",
              "      <td>1</td>\n",
              "      <td>0.166667</td>\n",
              "      <td>0.666667</td>\n",
              "    </tr>\n",
              "    <tr>\n",
              "      <th>156</th>\n",
              "      <td>0</td>\n",
              "      <td>0</td>\n",
              "      <td>27403</td>\n",
              "      <td>1</td>\n",
              "      <td>0.166667</td>\n",
              "      <td>0.666667</td>\n",
              "    </tr>\n",
              "    <tr>\n",
              "      <th>...</th>\n",
              "      <td>...</td>\n",
              "      <td>...</td>\n",
              "      <td>...</td>\n",
              "      <td>...</td>\n",
              "      <td>...</td>\n",
              "      <td>...</td>\n",
              "    </tr>\n",
              "    <tr>\n",
              "      <th>4029617</th>\n",
              "      <td>19875</td>\n",
              "      <td>37</td>\n",
              "      <td>154624</td>\n",
              "      <td>0</td>\n",
              "      <td>0.333333</td>\n",
              "      <td>0.333333</td>\n",
              "    </tr>\n",
              "    <tr>\n",
              "      <th>4029656</th>\n",
              "      <td>19875</td>\n",
              "      <td>37</td>\n",
              "      <td>224329</td>\n",
              "      <td>0</td>\n",
              "      <td>0.333333</td>\n",
              "      <td>0.333333</td>\n",
              "    </tr>\n",
              "    <tr>\n",
              "      <th>4029579</th>\n",
              "      <td>19875</td>\n",
              "      <td>38</td>\n",
              "      <td>165962</td>\n",
              "      <td>1</td>\n",
              "      <td>0.333333</td>\n",
              "      <td>0.333333</td>\n",
              "    </tr>\n",
              "    <tr>\n",
              "      <th>4029618</th>\n",
              "      <td>19875</td>\n",
              "      <td>38</td>\n",
              "      <td>154624</td>\n",
              "      <td>1</td>\n",
              "      <td>0.333333</td>\n",
              "      <td>0.333333</td>\n",
              "    </tr>\n",
              "    <tr>\n",
              "      <th>4029657</th>\n",
              "      <td>19875</td>\n",
              "      <td>38</td>\n",
              "      <td>224329</td>\n",
              "      <td>1</td>\n",
              "      <td>0.333333</td>\n",
              "      <td>0.333333</td>\n",
              "    </tr>\n",
              "  </tbody>\n",
              "</table>\n",
              "<p>4029658 rows × 6 columns</p>\n",
              "</div>"
            ],
            "text/plain": [
              "         team_tour_id  question_id  ...  player_team_weight  player_force\n",
              "0                   0            0  ...            0.166667      0.666667\n",
              "39                  0            0  ...            0.166667      0.666667\n",
              "78                  0            0  ...            0.166667      0.666667\n",
              "117                 0            0  ...            0.166667      0.666667\n",
              "156                 0            0  ...            0.166667      0.666667\n",
              "...               ...          ...  ...                 ...           ...\n",
              "4029617         19875           37  ...            0.333333      0.333333\n",
              "4029656         19875           37  ...            0.333333      0.333333\n",
              "4029579         19875           38  ...            0.333333      0.333333\n",
              "4029618         19875           38  ...            0.333333      0.333333\n",
              "4029657         19875           38  ...            0.333333      0.333333\n",
              "\n",
              "[4029658 rows x 6 columns]"
            ]
          },
          "metadata": {
            "tags": []
          },
          "execution_count": 29
        }
      ]
    },
    {
      "cell_type": "markdown",
      "metadata": {
        "id": "7xqYptIGaQEh"
      },
      "source": [
        "### Run EM-algorithm end check its performance (10 iterations on data of year 2020):"
      ]
    },
    {
      "cell_type": "code",
      "metadata": {
        "colab": {
          "base_uri": "https://localhost:8080/",
          "height": 100,
          "referenced_widgets": [
            "8c1dd9a54ce44853a59f3d2acb9fb905",
            "4e3bca1684424d119b51a90aa6160480",
            "d65c37121b414876bd6d619b57696b62",
            "0d4c4fe21d7446f2ac504cccb5627dc8",
            "b7cc3d67b2ad4ef3b4da22a2210d2f2a",
            "3aea00efcc29473bb6bf1a8ce992deda",
            "b7e05944d200485c99db1d58d77d06dd",
            "c8cec86604324401a57384e02ebe5f39"
          ]
        },
        "id": "sU2p0ridXpp1",
        "outputId": "43029f5d-9af9-4f98-c7d1-c60c116abdfc"
      },
      "source": [
        "%%time\n",
        "em_results_2020, player_force_em = EM(em_data_2020, n_iterations=10)"
      ],
      "execution_count": null,
      "outputs": [
        {
          "output_type": "display_data",
          "data": {
            "application/vnd.jupyter.widget-view+json": {
              "model_id": "8c1dd9a54ce44853a59f3d2acb9fb905",
              "version_minor": 0,
              "version_major": 2
            },
            "text/plain": [
              "HBox(children=(FloatProgress(value=0.0, max=10.0), HTML(value='')))"
            ]
          },
          "metadata": {
            "tags": []
          }
        },
        {
          "output_type": "stream",
          "text": [
            "\n",
            "CPU times: user 3min 29s, sys: 4.39 s, total: 3min 34s\n",
            "Wall time: 3min 30s\n"
          ],
          "name": "stdout"
        }
      ]
    },
    {
      "cell_type": "code",
      "metadata": {
        "colab": {
          "base_uri": "https://localhost:8080/",
          "height": 428
        },
        "id": "RQEaxcdReYNA",
        "outputId": "0547875d-3144-4df2-9253-33d29f10e7d7"
      },
      "source": [
        "plt.figure(figsize=(9, 7))\n",
        "sns.distplot(player_force_em['player_force'].values);"
      ],
      "execution_count": null,
      "outputs": [
        {
          "output_type": "display_data",
          "data": {
            "image/png": "[encoded data removed]",
            "text/plain": [
              "<Figure size 648x504 with 1 Axes>"
            ]
          },
          "metadata": {
            "tags": []
          }
        }
      ]
    },
    {
      "cell_type": "code",
      "metadata": {
        "colab": {
          "base_uri": "https://localhost:8080/",
          "height": 576
        },
        "id": "86Tv4Gxi_clV",
        "outputId": "16aec066-1027-4e2c-80fe-162b52f3c350"
      },
      "source": [
        "em_results_2020[em_results_2020['team_tour_id'].isin([0, 100, 200])][['team_tour_id', 'player_team_weight', 'player_force']].drop_duplicates()"
      ],
      "execution_count": null,
      "outputs": [
        {
          "output_type": "execute_result",
          "data": {
            "text/html": [
              "<div>\n",
              "<style scoped>\n",
              "    .dataframe tbody tr th:only-of-type {\n",
              "        vertical-align: middle;\n",
              "    }\n",
              "\n",
              "    .dataframe tbody tr th {\n",
              "        vertical-align: top;\n",
              "    }\n",
              "\n",
              "    .dataframe thead th {\n",
              "        text-align: right;\n",
              "    }\n",
              "</style>\n",
              "<table border=\"1\" class=\"dataframe\">\n",
              "  <thead>\n",
              "    <tr style=\"text-align: right;\">\n",
              "      <th></th>\n",
              "      <th>team_tour_id</th>\n",
              "      <th>player_team_weight</th>\n",
              "      <th>player_force</th>\n",
              "    </tr>\n",
              "  </thead>\n",
              "  <tbody>\n",
              "    <tr>\n",
              "      <th>0</th>\n",
              "      <td>0</td>\n",
              "      <td>0.147143</td>\n",
              "      <td>0.860481</td>\n",
              "    </tr>\n",
              "    <tr>\n",
              "      <th>39</th>\n",
              "      <td>0</td>\n",
              "      <td>0.236140</td>\n",
              "      <td>0.776525</td>\n",
              "    </tr>\n",
              "    <tr>\n",
              "      <th>78</th>\n",
              "      <td>0</td>\n",
              "      <td>0.185169</td>\n",
              "      <td>0.794383</td>\n",
              "    </tr>\n",
              "    <tr>\n",
              "      <th>117</th>\n",
              "      <td>0</td>\n",
              "      <td>0.147955</td>\n",
              "      <td>0.820114</td>\n",
              "    </tr>\n",
              "    <tr>\n",
              "      <th>156</th>\n",
              "      <td>0</td>\n",
              "      <td>0.167935</td>\n",
              "      <td>0.799106</td>\n",
              "    </tr>\n",
              "    <tr>\n",
              "      <th>195</th>\n",
              "      <td>0</td>\n",
              "      <td>0.115657</td>\n",
              "      <td>0.853493</td>\n",
              "    </tr>\n",
              "    <tr>\n",
              "      <th>21111</th>\n",
              "      <td>100</td>\n",
              "      <td>0.236498</td>\n",
              "      <td>0.858979</td>\n",
              "    </tr>\n",
              "    <tr>\n",
              "      <th>21147</th>\n",
              "      <td>100</td>\n",
              "      <td>0.271067</td>\n",
              "      <td>0.894657</td>\n",
              "    </tr>\n",
              "    <tr>\n",
              "      <th>21183</th>\n",
              "      <td>100</td>\n",
              "      <td>0.114838</td>\n",
              "      <td>0.574751</td>\n",
              "    </tr>\n",
              "    <tr>\n",
              "      <th>21255</th>\n",
              "      <td>100</td>\n",
              "      <td>0.150522</td>\n",
              "      <td>0.732288</td>\n",
              "    </tr>\n",
              "    <tr>\n",
              "      <th>21291</th>\n",
              "      <td>100</td>\n",
              "      <td>0.112239</td>\n",
              "      <td>0.585790</td>\n",
              "    </tr>\n",
              "    <tr>\n",
              "      <th>40947</th>\n",
              "      <td>200</td>\n",
              "      <td>0.183877</td>\n",
              "      <td>0.581545</td>\n",
              "    </tr>\n",
              "    <tr>\n",
              "      <th>40983</th>\n",
              "      <td>200</td>\n",
              "      <td>0.150799</td>\n",
              "      <td>0.484328</td>\n",
              "    </tr>\n",
              "    <tr>\n",
              "      <th>41019</th>\n",
              "      <td>200</td>\n",
              "      <td>0.184363</td>\n",
              "      <td>0.644752</td>\n",
              "    </tr>\n",
              "    <tr>\n",
              "      <th>41055</th>\n",
              "      <td>200</td>\n",
              "      <td>0.192690</td>\n",
              "      <td>0.622937</td>\n",
              "    </tr>\n",
              "    <tr>\n",
              "      <th>41091</th>\n",
              "      <td>200</td>\n",
              "      <td>0.160597</td>\n",
              "      <td>0.503993</td>\n",
              "    </tr>\n",
              "    <tr>\n",
              "      <th>41127</th>\n",
              "      <td>200</td>\n",
              "      <td>0.127674</td>\n",
              "      <td>0.365421</td>\n",
              "    </tr>\n",
              "  </tbody>\n",
              "</table>\n",
              "</div>"
            ],
            "text/plain": [
              "       team_tour_id  player_team_weight  player_force\n",
              "0                 0            0.147143      0.860481\n",
              "39                0            0.236140      0.776525\n",
              "78                0            0.185169      0.794383\n",
              "117               0            0.147955      0.820114\n",
              "156               0            0.167935      0.799106\n",
              "195               0            0.115657      0.853493\n",
              "21111           100            0.236498      0.858979\n",
              "21147           100            0.271067      0.894657\n",
              "21183           100            0.114838      0.574751\n",
              "21255           100            0.150522      0.732288\n",
              "21291           100            0.112239      0.585790\n",
              "40947           200            0.183877      0.581545\n",
              "40983           200            0.150799      0.484328\n",
              "41019           200            0.184363      0.644752\n",
              "41055           200            0.192690      0.622937\n",
              "41091           200            0.160597      0.503993\n",
              "41127           200            0.127674      0.365421"
            ]
          },
          "metadata": {
            "tags": []
          },
          "execution_count": 28
        }
      ]
    },
    {
      "cell_type": "markdown",
      "metadata": {
        "id": "XLzmoszdbwC7"
      },
      "source": [
        "Interesting feature of EM-algorithm may be observed above: *player_force* and *player_team_weight* are correlated, but in some cases players with higher force have higher weight in team (*team_tour_id=100*), in some cases the situation is opposite (*team_tour_id=0*). \n",
        "This depend on team overall performance: in the table below we see that *team_tour_id=100* has higher *correct_answer_rate*, thus players from this team are more influencial. "
      ]
    },
    {
      "cell_type": "code",
      "metadata": {
        "colab": {
          "base_uri": "https://localhost:8080/",
          "height": 142
        },
        "id": "OZZcdcpdc7L9",
        "outputId": "b32f150e-a7c4-4103-e3ed-b4540c6cba1c"
      },
      "source": [
        "em_results_2020[em_results_2020['team_tour_id'].isin([0, 100, 200])].groupby('team_tour_id')['answer'].mean().to_frame().reset_index().rename(columns={'answer': 'correct_answer_rate'})"
      ],
      "execution_count": null,
      "outputs": [
        {
          "output_type": "execute_result",
          "data": {
            "text/html": [
              "<div>\n",
              "<style scoped>\n",
              "    .dataframe tbody tr th:only-of-type {\n",
              "        vertical-align: middle;\n",
              "    }\n",
              "\n",
              "    .dataframe tbody tr th {\n",
              "        vertical-align: top;\n",
              "    }\n",
              "\n",
              "    .dataframe thead th {\n",
              "        text-align: right;\n",
              "    }\n",
              "</style>\n",
              "<table border=\"1\" class=\"dataframe\">\n",
              "  <thead>\n",
              "    <tr style=\"text-align: right;\">\n",
              "      <th></th>\n",
              "      <th>team_tour_id</th>\n",
              "      <th>correct_answer_rate</th>\n",
              "    </tr>\n",
              "  </thead>\n",
              "  <tbody>\n",
              "    <tr>\n",
              "      <th>0</th>\n",
              "      <td>0</td>\n",
              "      <td>0.666667</td>\n",
              "    </tr>\n",
              "    <tr>\n",
              "      <th>1</th>\n",
              "      <td>100</td>\n",
              "      <td>0.805556</td>\n",
              "    </tr>\n",
              "    <tr>\n",
              "      <th>2</th>\n",
              "      <td>200</td>\n",
              "      <td>0.611111</td>\n",
              "    </tr>\n",
              "  </tbody>\n",
              "</table>\n",
              "</div>"
            ],
            "text/plain": [
              "   team_tour_id  correct_answer_rate\n",
              "0             0             0.666667\n",
              "1           100             0.805556\n",
              "2           200             0.611111"
            ]
          },
          "metadata": {
            "tags": []
          },
          "execution_count": 37
        }
      ]
    },
    {
      "cell_type": "code",
      "metadata": {
        "colab": {
          "base_uri": "https://localhost:8080/",
          "height": 419
        },
        "id": "5_svfZ6vPRru",
        "outputId": "faab2192-14bd-475c-e633-ba99eb2c6fc2"
      },
      "source": [
        "test_results_em = pd.merge(data_2020[['tournament_id', 'team_id', 'n_correct', 'position', 'player_id']].drop_duplicates(), player_force_em, on='player_id')\n",
        "team_rating_em = test_results_em.groupby(['tournament_id', 'team_id'])['player_force'].sum().to_frame().reset_index().rename(columns={'player_force': 'team_rating'})\n",
        "test_results_em = pd.merge(test_results_em[['tournament_id', 'team_id', 'n_correct', 'position']].drop_duplicates(), team_rating_em, on=['tournament_id', 'team_id'])\n",
        "test_results_em"
      ],
      "execution_count": null,
      "outputs": [
        {
          "output_type": "execute_result",
          "data": {
            "text/html": [
              "<div>\n",
              "<style scoped>\n",
              "    .dataframe tbody tr th:only-of-type {\n",
              "        vertical-align: middle;\n",
              "    }\n",
              "\n",
              "    .dataframe tbody tr th {\n",
              "        vertical-align: top;\n",
              "    }\n",
              "\n",
              "    .dataframe thead th {\n",
              "        text-align: right;\n",
              "    }\n",
              "</style>\n",
              "<table border=\"1\" class=\"dataframe\">\n",
              "  <thead>\n",
              "    <tr style=\"text-align: right;\">\n",
              "      <th></th>\n",
              "      <th>tournament_id</th>\n",
              "      <th>team_id</th>\n",
              "      <th>n_correct</th>\n",
              "      <th>position</th>\n",
              "      <th>team_rating</th>\n",
              "    </tr>\n",
              "  </thead>\n",
              "  <tbody>\n",
              "    <tr>\n",
              "      <th>0</th>\n",
              "      <td>4957</td>\n",
              "      <td>49804</td>\n",
              "      <td>26</td>\n",
              "      <td>1.0</td>\n",
              "      <td>4.904102</td>\n",
              "    </tr>\n",
              "    <tr>\n",
              "      <th>1</th>\n",
              "      <td>5414</td>\n",
              "      <td>46381</td>\n",
              "      <td>30</td>\n",
              "      <td>5.0</td>\n",
              "      <td>4.462751</td>\n",
              "    </tr>\n",
              "    <tr>\n",
              "      <th>2</th>\n",
              "      <td>5719</td>\n",
              "      <td>2865</td>\n",
              "      <td>27</td>\n",
              "      <td>24.0</td>\n",
              "      <td>3.768884</td>\n",
              "    </tr>\n",
              "    <tr>\n",
              "      <th>3</th>\n",
              "      <td>5730</td>\n",
              "      <td>49758</td>\n",
              "      <td>32</td>\n",
              "      <td>1.0</td>\n",
              "      <td>4.952994</td>\n",
              "    </tr>\n",
              "    <tr>\n",
              "      <th>4</th>\n",
              "      <td>5754</td>\n",
              "      <td>77648</td>\n",
              "      <td>28</td>\n",
              "      <td>53.5</td>\n",
              "      <td>2.879468</td>\n",
              "    </tr>\n",
              "    <tr>\n",
              "      <th>...</th>\n",
              "      <td>...</td>\n",
              "      <td>...</td>\n",
              "      <td>...</td>\n",
              "      <td>...</td>\n",
              "      <td>...</td>\n",
              "    </tr>\n",
              "    <tr>\n",
              "      <th>19871</th>\n",
              "      <td>6339</td>\n",
              "      <td>73580</td>\n",
              "      <td>5</td>\n",
              "      <td>29.5</td>\n",
              "      <td>0.888889</td>\n",
              "    </tr>\n",
              "    <tr>\n",
              "      <th>19872</th>\n",
              "      <td>6339</td>\n",
              "      <td>77762</td>\n",
              "      <td>5</td>\n",
              "      <td>29.5</td>\n",
              "      <td>0.444444</td>\n",
              "    </tr>\n",
              "    <tr>\n",
              "      <th>19873</th>\n",
              "      <td>6339</td>\n",
              "      <td>77760</td>\n",
              "      <td>2</td>\n",
              "      <td>31.0</td>\n",
              "      <td>0.266667</td>\n",
              "    </tr>\n",
              "    <tr>\n",
              "      <th>19874</th>\n",
              "      <td>6340</td>\n",
              "      <td>77760</td>\n",
              "      <td>1</td>\n",
              "      <td>27.0</td>\n",
              "      <td>0.266667</td>\n",
              "    </tr>\n",
              "    <tr>\n",
              "      <th>19875</th>\n",
              "      <td>6428</td>\n",
              "      <td>71490</td>\n",
              "      <td>9</td>\n",
              "      <td>12.0</td>\n",
              "      <td>0.692308</td>\n",
              "    </tr>\n",
              "  </tbody>\n",
              "</table>\n",
              "<p>19876 rows × 5 columns</p>\n",
              "</div>"
            ],
            "text/plain": [
              "       tournament_id  team_id  n_correct  position  team_rating\n",
              "0               4957    49804         26       1.0     4.904102\n",
              "1               5414    46381         30       5.0     4.462751\n",
              "2               5719     2865         27      24.0     3.768884\n",
              "3               5730    49758         32       1.0     4.952994\n",
              "4               5754    77648         28      53.5     2.879468\n",
              "...              ...      ...        ...       ...          ...\n",
              "19871           6339    73580          5      29.5     0.888889\n",
              "19872           6339    77762          5      29.5     0.444444\n",
              "19873           6339    77760          2      31.0     0.266667\n",
              "19874           6340    77760          1      27.0     0.266667\n",
              "19875           6428    71490          9      12.0     0.692308\n",
              "\n",
              "[19876 rows x 5 columns]"
            ]
          },
          "metadata": {
            "tags": []
          },
          "execution_count": 40
        }
      ]
    },
    {
      "cell_type": "markdown",
      "metadata": {
        "id": "s7oIbAz9eXd0"
      },
      "source": [
        "Pretty well correlation metrics)"
      ]
    },
    {
      "cell_type": "code",
      "metadata": {
        "colab": {
          "base_uri": "https://localhost:8080/",
          "height": 134,
          "referenced_widgets": [
            "61c040dec6c54684bfaf4aec03716553",
            "76ea4cb19c4f4256b28708ec9b9f3c67",
            "33baf7418323469b99618ab3ebd3e71e",
            "a6011113e1ed4cc697a9185ef11a8fe4",
            "0414f616c14d4cb2a20a26e97f80cf7b",
            "16bf7fc9c1a94001b1771955408043a8",
            "fe16f7acfc224ed0aca16453ff930abc",
            "4ea873c672f1400f9780f16dd08faa91"
          ]
        },
        "id": "m7ycdYoCPRw6",
        "outputId": "256490a7-ab49-4008-f84f-7837a6c4e581"
      },
      "source": [
        "%%time\n",
        "correlation(test_results_em)"
      ],
      "execution_count": null,
      "outputs": [
        {
          "output_type": "display_data",
          "data": {
            "application/vnd.jupyter.widget-view+json": {
              "model_id": "61c040dec6c54684bfaf4aec03716553",
              "version_minor": 0,
              "version_major": 2
            },
            "text/plain": [
              "HBox(children=(FloatProgress(value=0.0, max=165.0), HTML(value='')))"
            ]
          },
          "metadata": {
            "tags": []
          }
        },
        {
          "output_type": "stream",
          "text": [
            "\n",
            "Average Kendall correlation: 0.6127628937179576\n",
            "Average Spearman correlation: 0.7643487222884016\n",
            "CPU times: user 427 ms, sys: 13.9 ms, total: 441 ms\n",
            "Wall time: 496 ms\n"
          ],
          "name": "stdout"
        }
      ]
    },
    {
      "cell_type": "code",
      "metadata": {
        "id": "a8B22q-agYfX"
      },
      "source": [
        ""
      ],
      "execution_count": null,
      "outputs": []
    },
    {
      "cell_type": "markdown",
      "metadata": {
        "id": "ux08_WNQgH1N"
      },
      "source": [
        "### Tournament rating based on question complexity\n",
        "\n",
        "On previous steps we calculated *question_answer_rate* as ratio of correct answers per given question. Let us now compose rating of tournaments as average question complexity that is refered based on *question_answer_rate*."
      ]
    },
    {
      "cell_type": "code",
      "metadata": {
        "colab": {
          "base_uri": "https://localhost:8080/",
          "height": 142
        },
        "id": "FkNwbRMRakVu",
        "outputId": "17c4071e-f98b-4f89-b955-98274479cd01"
      },
      "source": [
        "tournament_rating = data_2019[['tournament_id', 'question_id', 'question_answer_rate']].drop_duplicates()\n",
        "tournament_rating = tournament_rating.groupby('tournament_id')['question_answer_rate'].mean().to_frame().reset_index(b).rename(columns={'question_answer_rate': 'tournament_rating'})\n",
        "tournament_rating.head(3)"
      ],
      "execution_count": null,
      "outputs": [
        {
          "output_type": "execute_result",
          "data": {
            "text/html": [
              "<div>\n",
              "<style scoped>\n",
              "    .dataframe tbody tr th:only-of-type {\n",
              "        vertical-align: middle;\n",
              "    }\n",
              "\n",
              "    .dataframe tbody tr th {\n",
              "        vertical-align: top;\n",
              "    }\n",
              "\n",
              "    .dataframe thead th {\n",
              "        text-align: right;\n",
              "    }\n",
              "</style>\n",
              "<table border=\"1\" class=\"dataframe\">\n",
              "  <thead>\n",
              "    <tr style=\"text-align: right;\">\n",
              "      <th></th>\n",
              "      <th>tournament_id</th>\n",
              "      <th>tournament_rating</th>\n",
              "    </tr>\n",
              "  </thead>\n",
              "  <tbody>\n",
              "    <tr>\n",
              "      <th>0</th>\n",
              "      <td>4772</td>\n",
              "      <td>0.466330</td>\n",
              "    </tr>\n",
              "    <tr>\n",
              "      <th>1</th>\n",
              "      <td>4973</td>\n",
              "      <td>0.468409</td>\n",
              "    </tr>\n",
              "    <tr>\n",
              "      <th>2</th>\n",
              "      <td>4974</td>\n",
              "      <td>0.462323</td>\n",
              "    </tr>\n",
              "  </tbody>\n",
              "</table>\n",
              "</div>"
            ],
            "text/plain": [
              "   tournament_id  tournament_rating\n",
              "0           4772           0.466330\n",
              "1           4973           0.468409\n",
              "2           4974           0.462323"
            ]
          },
          "metadata": {
            "tags": []
          },
          "execution_count": 47
        }
      ]
    },
    {
      "cell_type": "code",
      "metadata": {
        "colab": {
          "base_uri": "https://localhost:8080/",
          "height": 419
        },
        "id": "tFHv9kOwiI3h",
        "outputId": "4ec8091d-1cdd-4d8c-aa13-a43063cab561"
      },
      "source": [
        "tournament_rating['tournament_name'] = tournament_rating['tournament_id'].map(data_tournaments_2019)\n",
        "tournament_rating = tournament_rating.sort_values('tournament_rating')\n",
        "tournament_rating"
      ],
      "execution_count": null,
      "outputs": [
        {
          "output_type": "execute_result",
          "data": {
            "text/html": [
              "<div>\n",
              "<style scoped>\n",
              "    .dataframe tbody tr th:only-of-type {\n",
              "        vertical-align: middle;\n",
              "    }\n",
              "\n",
              "    .dataframe tbody tr th {\n",
              "        vertical-align: top;\n",
              "    }\n",
              "\n",
              "    .dataframe thead th {\n",
              "        text-align: right;\n",
              "    }\n",
              "</style>\n",
              "<table border=\"1\" class=\"dataframe\">\n",
              "  <thead>\n",
              "    <tr style=\"text-align: right;\">\n",
              "      <th></th>\n",
              "      <th>tournament_id</th>\n",
              "      <th>tournament_rating</th>\n",
              "      <th>tournament_name</th>\n",
              "    </tr>\n",
              "  </thead>\n",
              "  <tbody>\n",
              "    <tr>\n",
              "      <th>652</th>\n",
              "      <td>6149</td>\n",
              "      <td>0.000000</td>\n",
              "      <td>Чемпионат Санкт-Петербурга. Первая лига</td>\n",
              "    </tr>\n",
              "    <tr>\n",
              "      <th>382</th>\n",
              "      <td>5717</td>\n",
              "      <td>0.090598</td>\n",
              "      <td>Чемпионат Таджикистана</td>\n",
              "    </tr>\n",
              "    <tr>\n",
              "      <th>289</th>\n",
              "      <td>5599</td>\n",
              "      <td>0.155952</td>\n",
              "      <td>Чемпионат Туркменистана</td>\n",
              "    </tr>\n",
              "    <tr>\n",
              "      <th>568</th>\n",
              "      <td>5976</td>\n",
              "      <td>0.164352</td>\n",
              "      <td>Открытый Студенческий чемпионат Краснодарского...</td>\n",
              "    </tr>\n",
              "    <tr>\n",
              "      <th>656</th>\n",
              "      <td>6161</td>\n",
              "      <td>0.176812</td>\n",
              "      <td>Студенческий чемпионат Тюменской области</td>\n",
              "    </tr>\n",
              "    <tr>\n",
              "      <th>...</th>\n",
              "      <td>...</td>\n",
              "      <td>...</td>\n",
              "      <td>...</td>\n",
              "    </tr>\n",
              "    <tr>\n",
              "      <th>244</th>\n",
              "      <td>5540</td>\n",
              "      <td>0.663580</td>\n",
              "      <td>Регулярный чемпионат МГУ. Высшая лига. Третий ...</td>\n",
              "    </tr>\n",
              "    <tr>\n",
              "      <th>390</th>\n",
              "      <td>5726</td>\n",
              "      <td>0.683692</td>\n",
              "      <td>Первый турнир имени Джоуи Триббиани</td>\n",
              "    </tr>\n",
              "    <tr>\n",
              "      <th>560</th>\n",
              "      <td>5963</td>\n",
              "      <td>0.740741</td>\n",
              "      <td>Асинхрон по South Park</td>\n",
              "    </tr>\n",
              "    <tr>\n",
              "      <th>590</th>\n",
              "      <td>6003</td>\n",
              "      <td>0.745885</td>\n",
              "      <td>Второй тематический турнир имени Джоуи Триббиани</td>\n",
              "    </tr>\n",
              "    <tr>\n",
              "      <th>153</th>\n",
              "      <td>5438</td>\n",
              "      <td>0.783626</td>\n",
              "      <td>Синхрон Лиги Разума</td>\n",
              "    </tr>\n",
              "  </tbody>\n",
              "</table>\n",
              "<p>660 rows × 3 columns</p>\n",
              "</div>"
            ],
            "text/plain": [
              "     tournament_id  ...                                    tournament_name\n",
              "652           6149  ...            Чемпионат Санкт-Петербурга. Первая лига\n",
              "382           5717  ...                             Чемпионат Таджикистана\n",
              "289           5599  ...                            Чемпионат Туркменистана\n",
              "568           5976  ...  Открытый Студенческий чемпионат Краснодарского...\n",
              "656           6161  ...           Студенческий чемпионат Тюменской области\n",
              "..             ...  ...                                                ...\n",
              "244           5540  ...  Регулярный чемпионат МГУ. Высшая лига. Третий ...\n",
              "390           5726  ...                Первый турнир имени Джоуи Триббиани\n",
              "560           5963  ...                             Асинхрон по South Park\n",
              "590           6003  ...   Второй тематический турнир имени Джоуи Триббиани\n",
              "153           5438  ...                                Синхрон Лиги Разума\n",
              "\n",
              "[660 rows x 3 columns]"
            ]
          },
          "metadata": {
            "tags": []
          },
          "execution_count": 52
        }
      ]
    },
    {
      "cell_type": "markdown",
      "metadata": {
        "id": "nXsFh-VPjbmh"
      },
      "source": [
        "Note: *tournament_rating* $\\in [0, 1]$, the lower rating is - the fewer number of correct answers per tournament - the harder is the tournament."
      ]
    }
  ]
}